{
 "cells": [
  {
   "cell_type": "code",
   "execution_count": 1,
   "metadata": {},
   "outputs": [],
   "source": [
    "import pandas as pd"
   ]
  },
  {
   "cell_type": "code",
   "execution_count": 2,
   "metadata": {},
   "outputs": [
    {
     "data": {
      "text/plain": [
       "'0.25.1'"
      ]
     },
     "execution_count": 2,
     "metadata": {},
     "output_type": "execute_result"
    }
   ],
   "source": [
    "pd.__version__"
   ]
  },
  {
   "cell_type": "code",
   "execution_count": 3,
   "metadata": {},
   "outputs": [
    {
     "name": "stdout",
     "output_type": "stream",
     "text": [
      "0.25.1\n"
     ]
    }
   ],
   "source": [
    "print(pd.__version__)"
   ]
  },
  {
   "cell_type": "markdown",
   "metadata": {},
   "source": [
    "# Series"
   ]
  },
  {
   "cell_type": "code",
   "execution_count": 4,
   "metadata": {},
   "outputs": [
    {
     "data": {
      "text/plain": [
       "0    0\n",
       "1    1\n",
       "2    2\n",
       "3    3\n",
       "4    4\n",
       "dtype: int64"
      ]
     },
     "execution_count": 4,
     "metadata": {},
     "output_type": "execute_result"
    }
   ],
   "source": [
    "arr = [0,1,2,3,4]\n",
    "s1 = pd.Series(arr)\n",
    "s1"
   ]
  },
  {
   "cell_type": "code",
   "execution_count": 5,
   "metadata": {},
   "outputs": [
    {
     "data": {
      "text/plain": [
       "1    0\n",
       "2    1\n",
       "3    2\n",
       "4    3\n",
       "5    4\n",
       "dtype: int64"
      ]
     },
     "execution_count": 5,
     "metadata": {},
     "output_type": "execute_result"
    }
   ],
   "source": [
    "order = [1,2,3,4,5]\n",
    "s2 = pd.Series(arr,index=order)\n",
    "s2"
   ]
  },
  {
   "cell_type": "code",
   "execution_count": 6,
   "metadata": {},
   "outputs": [],
   "source": [
    " import numpy as np"
   ]
  },
  {
   "cell_type": "code",
   "execution_count": 7,
   "metadata": {},
   "outputs": [
    {
     "data": {
      "text/plain": [
       "array([-1.0110213 ,  0.01526865,  0.41177991,  0.8940751 ,  1.54699114])"
      ]
     },
     "execution_count": 7,
     "metadata": {},
     "output_type": "execute_result"
    }
   ],
   "source": [
    "n = np.random.randn(5)\n",
    "n"
   ]
  },
  {
   "cell_type": "code",
   "execution_count": 8,
   "metadata": {},
   "outputs": [
    {
     "data": {
      "text/plain": [
       "a   -1.011021\n",
       "b    0.015269\n",
       "c    0.411780\n",
       "d    0.894075\n",
       "e    1.546991\n",
       "dtype: float64"
      ]
     },
     "execution_count": 8,
     "metadata": {},
     "output_type": "execute_result"
    }
   ],
   "source": [
    "index = ['a','b','c','d','e']\n",
    "s3 = pd.Series(n,index=index)\n",
    "s3"
   ]
  },
  {
   "cell_type": "code",
   "execution_count": 9,
   "metadata": {},
   "outputs": [
    {
     "data": {
      "text/plain": [
       "a    1\n",
       "b    2\n",
       "c    3\n",
       "d    4\n",
       "e    5\n",
       "dtype: int64"
      ]
     },
     "execution_count": 9,
     "metadata": {},
     "output_type": "execute_result"
    }
   ],
   "source": [
    "#create series from a dict\n",
    "d = {'a':1,'b':2,'c':3,'d':4,'e':5}\n",
    "s4 = pd.Series(d)\n",
    "s4"
   ]
  },
  {
   "cell_type": "code",
   "execution_count": 12,
   "metadata": {},
   "outputs": [
    {
     "name": "stdout",
     "output_type": "stream",
     "text": [
      "0    0\n",
      "1    1\n",
      "2    2\n",
      "3    3\n",
      "4    4\n",
      "dtype: int64\n"
     ]
    },
    {
     "data": {
      "text/plain": [
       "A    0\n",
       "B    1\n",
       "C    2\n",
       "D    3\n",
       "E    4\n",
       "dtype: int64"
      ]
     },
     "execution_count": 12,
     "metadata": {},
     "output_type": "execute_result"
    }
   ],
   "source": [
    "print(s1)\n",
    "s1.index = ['A','B','C','D','E']\n",
    "s1"
   ]
  },
  {
   "cell_type": "code",
   "execution_count": 13,
   "metadata": {},
   "outputs": [
    {
     "data": {
      "text/plain": [
       "A    0\n",
       "B    1\n",
       "C    2\n",
       "dtype: int64"
      ]
     },
     "execution_count": 13,
     "metadata": {},
     "output_type": "execute_result"
    }
   ],
   "source": [
    "#slicing \n",
    "s1[:3]"
   ]
  },
  {
   "cell_type": "code",
   "execution_count": 14,
   "metadata": {},
   "outputs": [
    {
     "data": {
      "text/plain": [
       "a   -1.011021\n",
       "b    0.015269\n",
       "c    0.411780\n",
       "d    0.894075\n",
       "e    1.546991\n",
       "dtype: float64"
      ]
     },
     "execution_count": 14,
     "metadata": {},
     "output_type": "execute_result"
    }
   ],
   "source": [
    "s3"
   ]
  },
  {
   "cell_type": "code",
   "execution_count": 15,
   "metadata": {},
   "outputs": [
    {
     "data": {
      "text/plain": [
       "A    0\n",
       "B    1\n",
       "C    2\n",
       "D    3\n",
       "E    4\n",
       "dtype: int64"
      ]
     },
     "execution_count": 15,
     "metadata": {},
     "output_type": "execute_result"
    }
   ],
   "source": [
    "s1"
   ]
  },
  {
   "cell_type": "code",
   "execution_count": 16,
   "metadata": {},
   "outputs": [
    {
     "data": {
      "text/plain": [
       "A    0.000000\n",
       "B    1.000000\n",
       "C    2.000000\n",
       "D    3.000000\n",
       "E    4.000000\n",
       "a   -1.011021\n",
       "b    0.015269\n",
       "c    0.411780\n",
       "d    0.894075\n",
       "e    1.546991\n",
       "dtype: float64"
      ]
     },
     "execution_count": 16,
     "metadata": {},
     "output_type": "execute_result"
    }
   ],
   "source": [
    "s5 = s1.append(s3)\n",
    "s5"
   ]
  },
  {
   "cell_type": "code",
   "execution_count": 17,
   "metadata": {},
   "outputs": [
    {
     "data": {
      "text/plain": [
       "a    1\n",
       "b    2\n",
       "c    3\n",
       "d    4\n",
       "e    5\n",
       "dtype: int64"
      ]
     },
     "execution_count": 17,
     "metadata": {},
     "output_type": "execute_result"
    }
   ],
   "source": [
    "s4"
   ]
  },
  {
   "cell_type": "code",
   "execution_count": 18,
   "metadata": {},
   "outputs": [
    {
     "data": {
      "text/plain": [
       "A    0.000000\n",
       "B    1.000000\n",
       "C    2.000000\n",
       "D    3.000000\n",
       "E    4.000000\n",
       "a   -1.011021\n",
       "b    0.015269\n",
       "c    0.411780\n",
       "d    0.894075\n",
       "e    1.546991\n",
       "dtype: float64"
      ]
     },
     "execution_count": 18,
     "metadata": {},
     "output_type": "execute_result"
    }
   ],
   "source": [
    "s5"
   ]
  },
  {
   "cell_type": "code",
   "execution_count": 20,
   "metadata": {},
   "outputs": [
    {
     "data": {
      "text/plain": [
       "A    0.000000\n",
       "C    2.000000\n",
       "D    3.000000\n",
       "E    4.000000\n",
       "a   -1.011021\n",
       "b    0.015269\n",
       "c    0.411780\n",
       "d    0.894075\n",
       "dtype: float64"
      ]
     },
     "execution_count": 20,
     "metadata": {},
     "output_type": "execute_result"
    }
   ],
   "source": [
    "s5.drop(['e','B'])"
   ]
  },
  {
   "cell_type": "markdown",
   "metadata": {},
   "source": [
    "# series operations\n"
   ]
  },
  {
   "cell_type": "code",
   "execution_count": 21,
   "metadata": {},
   "outputs": [],
   "source": [
    "arr1 = [0,1,2,3,4,5,7]\n",
    "arr2 = [6,7,8,9,5]"
   ]
  },
  {
   "cell_type": "code",
   "execution_count": 23,
   "metadata": {},
   "outputs": [
    {
     "data": {
      "text/plain": [
       "0    0\n",
       "1    1\n",
       "2    2\n",
       "3    3\n",
       "4    4\n",
       "5    5\n",
       "6    7\n",
       "dtype: int64"
      ]
     },
     "execution_count": 23,
     "metadata": {},
     "output_type": "execute_result"
    }
   ],
   "source": [
    "s6 = pd.Series(arr1)\n",
    "s6"
   ]
  },
  {
   "cell_type": "code",
   "execution_count": 24,
   "metadata": {},
   "outputs": [
    {
     "data": {
      "text/plain": [
       "0    6\n",
       "1    7\n",
       "2    8\n",
       "3    9\n",
       "4    5\n",
       "dtype: int64"
      ]
     },
     "execution_count": 24,
     "metadata": {},
     "output_type": "execute_result"
    }
   ],
   "source": [
    "s7 = pd.Series(arr2)\n",
    "s7"
   ]
  },
  {
   "cell_type": "code",
   "execution_count": 27,
   "metadata": {},
   "outputs": [
    {
     "data": {
      "text/plain": [
       "0     6.0\n",
       "1     8.0\n",
       "2    10.0\n",
       "3    12.0\n",
       "4     9.0\n",
       "5     NaN\n",
       "6     NaN\n",
       "dtype: float64"
      ]
     },
     "execution_count": 27,
     "metadata": {},
     "output_type": "execute_result"
    }
   ],
   "source": [
    "s6.add(s7)"
   ]
  },
  {
   "cell_type": "code",
   "execution_count": 28,
   "metadata": {},
   "outputs": [
    {
     "data": {
      "text/plain": [
       "0   -6.0\n",
       "1   -6.0\n",
       "2   -6.0\n",
       "3   -6.0\n",
       "4   -1.0\n",
       "5    NaN\n",
       "6    NaN\n",
       "dtype: float64"
      ]
     },
     "execution_count": 28,
     "metadata": {},
     "output_type": "execute_result"
    }
   ],
   "source": [
    "s6.subtract(s7)"
   ]
  },
  {
   "cell_type": "code",
   "execution_count": 32,
   "metadata": {},
   "outputs": [
    {
     "data": {
      "text/plain": [
       "0     0.0\n",
       "1     7.0\n",
       "2    16.0\n",
       "3    27.0\n",
       "4    20.0\n",
       "5     NaN\n",
       "6     NaN\n",
       "dtype: float64"
      ]
     },
     "execution_count": 32,
     "metadata": {},
     "output_type": "execute_result"
    }
   ],
   "source": [
    "s6.mul(s7)"
   ]
  },
  {
   "cell_type": "code",
   "execution_count": 33,
   "metadata": {},
   "outputs": [
    {
     "data": {
      "text/plain": [
       "0    0.000000\n",
       "1    0.142857\n",
       "2    0.250000\n",
       "3    0.333333\n",
       "4    0.800000\n",
       "5         NaN\n",
       "6         NaN\n",
       "dtype: float64"
      ]
     },
     "execution_count": 33,
     "metadata": {},
     "output_type": "execute_result"
    }
   ],
   "source": [
    "s6.divide(s7)"
   ]
  },
  {
   "cell_type": "code",
   "execution_count": 34,
   "metadata": {},
   "outputs": [
    {
     "data": {
      "text/plain": [
       "3.142857142857143"
      ]
     },
     "execution_count": 34,
     "metadata": {},
     "output_type": "execute_result"
    }
   ],
   "source": [
    "s6.mean()"
   ]
  },
  {
   "cell_type": "code",
   "execution_count": 35,
   "metadata": {},
   "outputs": [
    {
     "data": {
      "text/plain": [
       "3.0"
      ]
     },
     "execution_count": 35,
     "metadata": {},
     "output_type": "execute_result"
    }
   ],
   "source": [
    "s6.median()"
   ]
  },
  {
   "cell_type": "code",
   "execution_count": 36,
   "metadata": {},
   "outputs": [
    {
     "data": {
      "text/plain": [
       "7"
      ]
     },
     "execution_count": 36,
     "metadata": {},
     "output_type": "execute_result"
    }
   ],
   "source": [
    "s6.max()"
   ]
  },
  {
   "cell_type": "code",
   "execution_count": 37,
   "metadata": {},
   "outputs": [
    {
     "data": {
      "text/plain": [
       "0"
      ]
     },
     "execution_count": 37,
     "metadata": {},
     "output_type": "execute_result"
    }
   ],
   "source": [
    "s6.min()"
   ]
  },
  {
   "cell_type": "code",
   "execution_count": 38,
   "metadata": {},
   "outputs": [
    {
     "data": {
      "text/plain": [
       "2.410295378065479"
      ]
     },
     "execution_count": 38,
     "metadata": {},
     "output_type": "execute_result"
    }
   ],
   "source": [
    "s6.std()"
   ]
  },
  {
   "cell_type": "code",
   "execution_count": 39,
   "metadata": {},
   "outputs": [
    {
     "data": {
      "text/plain": [
       "0    0\n",
       "1    1\n",
       "2    2\n",
       "3    3\n",
       "4    4\n",
       "5    5\n",
       "6    7\n",
       "dtype: int64"
      ]
     },
     "execution_count": 39,
     "metadata": {},
     "output_type": "execute_result"
    }
   ],
   "source": [
    "s6"
   ]
  },
  {
   "cell_type": "code",
   "execution_count": 40,
   "metadata": {},
   "outputs": [
    {
     "name": "stderr",
     "output_type": "stream",
     "text": [
      "/usr/lib/python3/dist-packages/ipykernel_launcher.py:1: FutureWarning: Method .ptp is deprecated and will be removed in a future version. Use numpy.ptp instead.\n",
      "  \"\"\"Entry point for launching an IPython kernel.\n"
     ]
    },
    {
     "data": {
      "text/plain": [
       "7"
      ]
     },
     "execution_count": 40,
     "metadata": {},
     "output_type": "execute_result"
    }
   ],
   "source": [
    " s6.ptp()"
   ]
  },
  {
   "cell_type": "markdown",
   "metadata": {},
   "source": [
    "# dataframes"
   ]
  },
  {
   "cell_type": "code",
   "execution_count": 41,
   "metadata": {},
   "outputs": [
    {
     "data": {
      "text/plain": [
       "DatetimeIndex(['2019-09-03 08:11:02.360726', '2019-09-04 08:11:02.360726',\n",
       "               '2019-09-05 08:11:02.360726', '2019-09-06 08:11:02.360726',\n",
       "               '2019-09-07 08:11:02.360726', '2019-09-08 08:11:02.360726'],\n",
       "              dtype='datetime64[ns]', freq='D')"
      ]
     },
     "execution_count": 41,
     "metadata": {},
     "output_type": "execute_result"
    }
   ],
   "source": [
    "dates = pd.date_range('today',periods=6) #time sequence as index\n",
    "dates"
   ]
  },
  {
   "cell_type": "code",
   "execution_count": 42,
   "metadata": {},
   "outputs": [
    {
     "data": {
      "text/plain": [
       "array([[-0.5618356 , -1.04507894,  0.74143976,  1.69484629],\n",
       "       [ 1.4062386 , -0.1499149 ,  1.52101452, -0.03044062],\n",
       "       [ 0.19649896,  0.49323392, -0.37104106,  1.19584728],\n",
       "       [-0.65000197,  1.12154822, -0.11095668,  0.03275392],\n",
       "       [ 1.09939076,  0.6816486 ,  0.17189862, -1.03433665],\n",
       "       [-0.3852204 , -0.06418641,  0.91883158, -0.15880655]])"
      ]
     },
     "execution_count": 42,
     "metadata": {},
     "output_type": "execute_result"
    }
   ],
   "source": [
    "num_arr = np.random.randn(6,4)\n",
    "num_arr"
   ]
  },
  {
   "cell_type": "code",
   "execution_count": 46,
   "metadata": {},
   "outputs": [
    {
     "data": {
      "text/html": [
       "<div>\n",
       "<style scoped>\n",
       "    .dataframe tbody tr th:only-of-type {\n",
       "        vertical-align: middle;\n",
       "    }\n",
       "\n",
       "    .dataframe tbody tr th {\n",
       "        vertical-align: top;\n",
       "    }\n",
       "\n",
       "    .dataframe thead th {\n",
       "        text-align: right;\n",
       "    }\n",
       "</style>\n",
       "<table border=\"1\" class=\"dataframe\">\n",
       "  <thead>\n",
       "    <tr style=\"text-align: right;\">\n",
       "      <th></th>\n",
       "      <th>A</th>\n",
       "      <th>B</th>\n",
       "      <th>C</th>\n",
       "      <th>D</th>\n",
       "    </tr>\n",
       "  </thead>\n",
       "  <tbody>\n",
       "    <tr>\n",
       "      <td>2019-09-03 08:11:02.360726</td>\n",
       "      <td>-0.561836</td>\n",
       "      <td>-1.045079</td>\n",
       "      <td>0.741440</td>\n",
       "      <td>1.694846</td>\n",
       "    </tr>\n",
       "    <tr>\n",
       "      <td>2019-09-04 08:11:02.360726</td>\n",
       "      <td>1.406239</td>\n",
       "      <td>-0.149915</td>\n",
       "      <td>1.521015</td>\n",
       "      <td>-0.030441</td>\n",
       "    </tr>\n",
       "    <tr>\n",
       "      <td>2019-09-05 08:11:02.360726</td>\n",
       "      <td>0.196499</td>\n",
       "      <td>0.493234</td>\n",
       "      <td>-0.371041</td>\n",
       "      <td>1.195847</td>\n",
       "    </tr>\n",
       "    <tr>\n",
       "      <td>2019-09-06 08:11:02.360726</td>\n",
       "      <td>-0.650002</td>\n",
       "      <td>1.121548</td>\n",
       "      <td>-0.110957</td>\n",
       "      <td>0.032754</td>\n",
       "    </tr>\n",
       "    <tr>\n",
       "      <td>2019-09-07 08:11:02.360726</td>\n",
       "      <td>1.099391</td>\n",
       "      <td>0.681649</td>\n",
       "      <td>0.171899</td>\n",
       "      <td>-1.034337</td>\n",
       "    </tr>\n",
       "    <tr>\n",
       "      <td>2019-09-08 08:11:02.360726</td>\n",
       "      <td>-0.385220</td>\n",
       "      <td>-0.064186</td>\n",
       "      <td>0.918832</td>\n",
       "      <td>-0.158807</td>\n",
       "    </tr>\n",
       "  </tbody>\n",
       "</table>\n",
       "</div>"
      ],
      "text/plain": [
       "                                   A         B         C         D\n",
       "2019-09-03 08:11:02.360726 -0.561836 -1.045079  0.741440  1.694846\n",
       "2019-09-04 08:11:02.360726  1.406239 -0.149915  1.521015 -0.030441\n",
       "2019-09-05 08:11:02.360726  0.196499  0.493234 -0.371041  1.195847\n",
       "2019-09-06 08:11:02.360726 -0.650002  1.121548 -0.110957  0.032754\n",
       "2019-09-07 08:11:02.360726  1.099391  0.681649  0.171899 -1.034337\n",
       "2019-09-08 08:11:02.360726 -0.385220 -0.064186  0.918832 -0.158807"
      ]
     },
     "execution_count": 46,
     "metadata": {},
     "output_type": "execute_result"
    }
   ],
   "source": [
    "columns = ['A','B','C','D']\n",
    "\n",
    "df1 = pd.DataFrame(num_arr,index=dates,columns=columns)\n",
    "df1"
   ]
  },
  {
   "cell_type": "code",
   "execution_count": 50,
   "metadata": {},
   "outputs": [
    {
     "data": {
      "text/plain": [
       "{'age': [2.5, 3, 0.5, nan, 5, 2, 4.5, nan, 7, 3],\n",
       " 'animal': ['cat',\n",
       "  'cat',\n",
       "  'snake',\n",
       "  'dog',\n",
       "  'dog',\n",
       "  'cat',\n",
       "  'snake',\n",
       "  'cat',\n",
       "  'dog',\n",
       "  'dog'],\n",
       " 'priority': ['yes', 'yes', 'no', 'yes', 'no', 'no', 'no', 'yes', 'no', 'no'],\n",
       " 'visits': [1, 3, 2, 3, 2, 3, 1, 1, 2, 1]}"
      ]
     },
     "execution_count": 50,
     "metadata": {},
     "output_type": "execute_result"
    }
   ],
   "source": [
    "data = {'animal':['cat','cat','snake','dog','dog','cat','snake','cat','dog','dog'],\n",
    "       'age':[2.5,3,0.5,np.nan,5,2,4.5,np.nan,7,3],\n",
    "       'visits':[1,3,2,3,2,3,1,1,2,1],\n",
    "       'priority':['yes','yes','no','yes','no','no','no','yes','no','no']}\n",
    "data"
   ]
  },
  {
   "cell_type": "code",
   "execution_count": 55,
   "metadata": {},
   "outputs": [
    {
     "data": {
      "text/plain": [
       "['a', 'b', 'c', 'd', 'e', 'f', 'g', 'h', 'i', 'j']"
      ]
     },
     "execution_count": 55,
     "metadata": {},
     "output_type": "execute_result"
    }
   ],
   "source": [
    "labels = ['a','b','c','d','e','f','g','h','i','j']\n",
    "labels"
   ]
  },
  {
   "cell_type": "code",
   "execution_count": 56,
   "metadata": {},
   "outputs": [
    {
     "data": {
      "text/html": [
       "<div>\n",
       "<style scoped>\n",
       "    .dataframe tbody tr th:only-of-type {\n",
       "        vertical-align: middle;\n",
       "    }\n",
       "\n",
       "    .dataframe tbody tr th {\n",
       "        vertical-align: top;\n",
       "    }\n",
       "\n",
       "    .dataframe thead th {\n",
       "        text-align: right;\n",
       "    }\n",
       "</style>\n",
       "<table border=\"1\" class=\"dataframe\">\n",
       "  <thead>\n",
       "    <tr style=\"text-align: right;\">\n",
       "      <th></th>\n",
       "      <th>animal</th>\n",
       "      <th>age</th>\n",
       "      <th>visits</th>\n",
       "      <th>priority</th>\n",
       "    </tr>\n",
       "  </thead>\n",
       "  <tbody>\n",
       "    <tr>\n",
       "      <td>a</td>\n",
       "      <td>cat</td>\n",
       "      <td>2.5</td>\n",
       "      <td>1</td>\n",
       "      <td>yes</td>\n",
       "    </tr>\n",
       "    <tr>\n",
       "      <td>b</td>\n",
       "      <td>cat</td>\n",
       "      <td>3.0</td>\n",
       "      <td>3</td>\n",
       "      <td>yes</td>\n",
       "    </tr>\n",
       "    <tr>\n",
       "      <td>c</td>\n",
       "      <td>snake</td>\n",
       "      <td>0.5</td>\n",
       "      <td>2</td>\n",
       "      <td>no</td>\n",
       "    </tr>\n",
       "    <tr>\n",
       "      <td>d</td>\n",
       "      <td>dog</td>\n",
       "      <td>NaN</td>\n",
       "      <td>3</td>\n",
       "      <td>yes</td>\n",
       "    </tr>\n",
       "    <tr>\n",
       "      <td>e</td>\n",
       "      <td>dog</td>\n",
       "      <td>5.0</td>\n",
       "      <td>2</td>\n",
       "      <td>no</td>\n",
       "    </tr>\n",
       "    <tr>\n",
       "      <td>f</td>\n",
       "      <td>cat</td>\n",
       "      <td>2.0</td>\n",
       "      <td>3</td>\n",
       "      <td>no</td>\n",
       "    </tr>\n",
       "    <tr>\n",
       "      <td>g</td>\n",
       "      <td>snake</td>\n",
       "      <td>4.5</td>\n",
       "      <td>1</td>\n",
       "      <td>no</td>\n",
       "    </tr>\n",
       "    <tr>\n",
       "      <td>h</td>\n",
       "      <td>cat</td>\n",
       "      <td>NaN</td>\n",
       "      <td>1</td>\n",
       "      <td>yes</td>\n",
       "    </tr>\n",
       "    <tr>\n",
       "      <td>i</td>\n",
       "      <td>dog</td>\n",
       "      <td>7.0</td>\n",
       "      <td>2</td>\n",
       "      <td>no</td>\n",
       "    </tr>\n",
       "    <tr>\n",
       "      <td>j</td>\n",
       "      <td>dog</td>\n",
       "      <td>3.0</td>\n",
       "      <td>1</td>\n",
       "      <td>no</td>\n",
       "    </tr>\n",
       "  </tbody>\n",
       "</table>\n",
       "</div>"
      ],
      "text/plain": [
       "  animal  age  visits priority\n",
       "a    cat  2.5       1      yes\n",
       "b    cat  3.0       3      yes\n",
       "c  snake  0.5       2       no\n",
       "d    dog  NaN       3      yes\n",
       "e    dog  5.0       2       no\n",
       "f    cat  2.0       3       no\n",
       "g  snake  4.5       1       no\n",
       "h    cat  NaN       1      yes\n",
       "i    dog  7.0       2       no\n",
       "j    dog  3.0       1       no"
      ]
     },
     "execution_count": 56,
     "metadata": {},
     "output_type": "execute_result"
    }
   ],
   "source": [
    "df2 = pd.DataFrame(data,index=labels)\n",
    "df2"
   ]
  },
  {
   "cell_type": "code",
   "execution_count": 57,
   "metadata": {},
   "outputs": [
    {
     "data": {
      "text/plain": [
       "animal       object\n",
       "age         float64\n",
       "visits        int64\n",
       "priority     object\n",
       "dtype: object"
      ]
     },
     "execution_count": 57,
     "metadata": {},
     "output_type": "execute_result"
    }
   ],
   "source": [
    "df2.dtypes"
   ]
  },
  {
   "cell_type": "code",
   "execution_count": 58,
   "metadata": {},
   "outputs": [
    {
     "data": {
      "text/html": [
       "<div>\n",
       "<style scoped>\n",
       "    .dataframe tbody tr th:only-of-type {\n",
       "        vertical-align: middle;\n",
       "    }\n",
       "\n",
       "    .dataframe tbody tr th {\n",
       "        vertical-align: top;\n",
       "    }\n",
       "\n",
       "    .dataframe thead th {\n",
       "        text-align: right;\n",
       "    }\n",
       "</style>\n",
       "<table border=\"1\" class=\"dataframe\">\n",
       "  <thead>\n",
       "    <tr style=\"text-align: right;\">\n",
       "      <th></th>\n",
       "      <th>animal</th>\n",
       "      <th>age</th>\n",
       "      <th>visits</th>\n",
       "      <th>priority</th>\n",
       "    </tr>\n",
       "  </thead>\n",
       "  <tbody>\n",
       "    <tr>\n",
       "      <td>a</td>\n",
       "      <td>cat</td>\n",
       "      <td>2.5</td>\n",
       "      <td>1</td>\n",
       "      <td>yes</td>\n",
       "    </tr>\n",
       "    <tr>\n",
       "      <td>b</td>\n",
       "      <td>cat</td>\n",
       "      <td>3.0</td>\n",
       "      <td>3</td>\n",
       "      <td>yes</td>\n",
       "    </tr>\n",
       "    <tr>\n",
       "      <td>c</td>\n",
       "      <td>snake</td>\n",
       "      <td>0.5</td>\n",
       "      <td>2</td>\n",
       "      <td>no</td>\n",
       "    </tr>\n",
       "    <tr>\n",
       "      <td>d</td>\n",
       "      <td>dog</td>\n",
       "      <td>NaN</td>\n",
       "      <td>3</td>\n",
       "      <td>yes</td>\n",
       "    </tr>\n",
       "    <tr>\n",
       "      <td>e</td>\n",
       "      <td>dog</td>\n",
       "      <td>5.0</td>\n",
       "      <td>2</td>\n",
       "      <td>no</td>\n",
       "    </tr>\n",
       "  </tbody>\n",
       "</table>\n",
       "</div>"
      ],
      "text/plain": [
       "  animal  age  visits priority\n",
       "a    cat  2.5       1      yes\n",
       "b    cat  3.0       3      yes\n",
       "c  snake  0.5       2       no\n",
       "d    dog  NaN       3      yes\n",
       "e    dog  5.0       2       no"
      ]
     },
     "execution_count": 58,
     "metadata": {},
     "output_type": "execute_result"
    }
   ],
   "source": [
    "df2.head()"
   ]
  },
  {
   "cell_type": "code",
   "execution_count": 59,
   "metadata": {},
   "outputs": [
    {
     "data": {
      "text/html": [
       "<div>\n",
       "<style scoped>\n",
       "    .dataframe tbody tr th:only-of-type {\n",
       "        vertical-align: middle;\n",
       "    }\n",
       "\n",
       "    .dataframe tbody tr th {\n",
       "        vertical-align: top;\n",
       "    }\n",
       "\n",
       "    .dataframe thead th {\n",
       "        text-align: right;\n",
       "    }\n",
       "</style>\n",
       "<table border=\"1\" class=\"dataframe\">\n",
       "  <thead>\n",
       "    <tr style=\"text-align: right;\">\n",
       "      <th></th>\n",
       "      <th>animal</th>\n",
       "      <th>age</th>\n",
       "      <th>visits</th>\n",
       "      <th>priority</th>\n",
       "    </tr>\n",
       "  </thead>\n",
       "  <tbody>\n",
       "    <tr>\n",
       "      <td>a</td>\n",
       "      <td>cat</td>\n",
       "      <td>2.5</td>\n",
       "      <td>1</td>\n",
       "      <td>yes</td>\n",
       "    </tr>\n",
       "    <tr>\n",
       "      <td>b</td>\n",
       "      <td>cat</td>\n",
       "      <td>3.0</td>\n",
       "      <td>3</td>\n",
       "      <td>yes</td>\n",
       "    </tr>\n",
       "    <tr>\n",
       "      <td>c</td>\n",
       "      <td>snake</td>\n",
       "      <td>0.5</td>\n",
       "      <td>2</td>\n",
       "      <td>no</td>\n",
       "    </tr>\n",
       "  </tbody>\n",
       "</table>\n",
       "</div>"
      ],
      "text/plain": [
       "  animal  age  visits priority\n",
       "a    cat  2.5       1      yes\n",
       "b    cat  3.0       3      yes\n",
       "c  snake  0.5       2       no"
      ]
     },
     "execution_count": 59,
     "metadata": {},
     "output_type": "execute_result"
    }
   ],
   "source": [
    "df2.head(3)"
   ]
  },
  {
   "cell_type": "code",
   "execution_count": 61,
   "metadata": {},
   "outputs": [
    {
     "data": {
      "text/html": [
       "<div>\n",
       "<style scoped>\n",
       "    .dataframe tbody tr th:only-of-type {\n",
       "        vertical-align: middle;\n",
       "    }\n",
       "\n",
       "    .dataframe tbody tr th {\n",
       "        vertical-align: top;\n",
       "    }\n",
       "\n",
       "    .dataframe thead th {\n",
       "        text-align: right;\n",
       "    }\n",
       "</style>\n",
       "<table border=\"1\" class=\"dataframe\">\n",
       "  <thead>\n",
       "    <tr style=\"text-align: right;\">\n",
       "      <th></th>\n",
       "      <th>animal</th>\n",
       "      <th>age</th>\n",
       "      <th>visits</th>\n",
       "      <th>priority</th>\n",
       "    </tr>\n",
       "  </thead>\n",
       "  <tbody>\n",
       "    <tr>\n",
       "      <td>a</td>\n",
       "      <td>cat</td>\n",
       "      <td>2.5</td>\n",
       "      <td>1</td>\n",
       "      <td>yes</td>\n",
       "    </tr>\n",
       "    <tr>\n",
       "      <td>b</td>\n",
       "      <td>cat</td>\n",
       "      <td>3.0</td>\n",
       "      <td>3</td>\n",
       "      <td>yes</td>\n",
       "    </tr>\n",
       "    <tr>\n",
       "      <td>c</td>\n",
       "      <td>snake</td>\n",
       "      <td>0.5</td>\n",
       "      <td>2</td>\n",
       "      <td>no</td>\n",
       "    </tr>\n",
       "    <tr>\n",
       "      <td>d</td>\n",
       "      <td>dog</td>\n",
       "      <td>NaN</td>\n",
       "      <td>3</td>\n",
       "      <td>yes</td>\n",
       "    </tr>\n",
       "    <tr>\n",
       "      <td>e</td>\n",
       "      <td>dog</td>\n",
       "      <td>5.0</td>\n",
       "      <td>2</td>\n",
       "      <td>no</td>\n",
       "    </tr>\n",
       "    <tr>\n",
       "      <td>f</td>\n",
       "      <td>cat</td>\n",
       "      <td>2.0</td>\n",
       "      <td>3</td>\n",
       "      <td>no</td>\n",
       "    </tr>\n",
       "  </tbody>\n",
       "</table>\n",
       "</div>"
      ],
      "text/plain": [
       "  animal  age  visits priority\n",
       "a    cat  2.5       1      yes\n",
       "b    cat  3.0       3      yes\n",
       "c  snake  0.5       2       no\n",
       "d    dog  NaN       3      yes\n",
       "e    dog  5.0       2       no\n",
       "f    cat  2.0       3       no"
      ]
     },
     "execution_count": 61,
     "metadata": {},
     "output_type": "execute_result"
    }
   ],
   "source": [
    "df3 = df2.head(6)\n",
    "df3"
   ]
  },
  {
   "cell_type": "code",
   "execution_count": 62,
   "metadata": {},
   "outputs": [
    {
     "data": {
      "text/html": [
       "<div>\n",
       "<style scoped>\n",
       "    .dataframe tbody tr th:only-of-type {\n",
       "        vertical-align: middle;\n",
       "    }\n",
       "\n",
       "    .dataframe tbody tr th {\n",
       "        vertical-align: top;\n",
       "    }\n",
       "\n",
       "    .dataframe thead th {\n",
       "        text-align: right;\n",
       "    }\n",
       "</style>\n",
       "<table border=\"1\" class=\"dataframe\">\n",
       "  <thead>\n",
       "    <tr style=\"text-align: right;\">\n",
       "      <th></th>\n",
       "      <th>animal</th>\n",
       "      <th>age</th>\n",
       "      <th>visits</th>\n",
       "      <th>priority</th>\n",
       "    </tr>\n",
       "  </thead>\n",
       "  <tbody>\n",
       "    <tr>\n",
       "      <td>f</td>\n",
       "      <td>cat</td>\n",
       "      <td>2.0</td>\n",
       "      <td>3</td>\n",
       "      <td>no</td>\n",
       "    </tr>\n",
       "    <tr>\n",
       "      <td>g</td>\n",
       "      <td>snake</td>\n",
       "      <td>4.5</td>\n",
       "      <td>1</td>\n",
       "      <td>no</td>\n",
       "    </tr>\n",
       "    <tr>\n",
       "      <td>h</td>\n",
       "      <td>cat</td>\n",
       "      <td>NaN</td>\n",
       "      <td>1</td>\n",
       "      <td>yes</td>\n",
       "    </tr>\n",
       "    <tr>\n",
       "      <td>i</td>\n",
       "      <td>dog</td>\n",
       "      <td>7.0</td>\n",
       "      <td>2</td>\n",
       "      <td>no</td>\n",
       "    </tr>\n",
       "    <tr>\n",
       "      <td>j</td>\n",
       "      <td>dog</td>\n",
       "      <td>3.0</td>\n",
       "      <td>1</td>\n",
       "      <td>no</td>\n",
       "    </tr>\n",
       "  </tbody>\n",
       "</table>\n",
       "</div>"
      ],
      "text/plain": [
       "  animal  age  visits priority\n",
       "f    cat  2.0       3       no\n",
       "g  snake  4.5       1       no\n",
       "h    cat  NaN       1      yes\n",
       "i    dog  7.0       2       no\n",
       "j    dog  3.0       1       no"
      ]
     },
     "execution_count": 62,
     "metadata": {},
     "output_type": "execute_result"
    }
   ],
   "source": [
    "df2.tail()"
   ]
  },
  {
   "cell_type": "code",
   "execution_count": 65,
   "metadata": {},
   "outputs": [
    {
     "name": "stdout",
     "output_type": "stream",
     "text": [
      "Index(['a', 'b', 'c', 'd', 'e', 'f', 'g', 'h', 'i', 'j'], dtype='object')\n"
     ]
    },
    {
     "data": {
      "text/plain": [
       "Index(['animal', 'age', 'visits', 'priority'], dtype='object')"
      ]
     },
     "execution_count": 65,
     "metadata": {},
     "output_type": "execute_result"
    }
   ],
   "source": [
    "print(df2.index)\n",
    "df2.columns"
   ]
  },
  {
   "cell_type": "code",
   "execution_count": 66,
   "metadata": {},
   "outputs": [
    {
     "data": {
      "text/plain": [
       "array([['cat', 2.5, 1, 'yes'],\n",
       "       ['cat', 3.0, 3, 'yes'],\n",
       "       ['snake', 0.5, 2, 'no'],\n",
       "       ['dog', nan, 3, 'yes'],\n",
       "       ['dog', 5.0, 2, 'no'],\n",
       "       ['cat', 2.0, 3, 'no'],\n",
       "       ['snake', 4.5, 1, 'no'],\n",
       "       ['cat', nan, 1, 'yes'],\n",
       "       ['dog', 7.0, 2, 'no'],\n",
       "       ['dog', 3.0, 1, 'no']], dtype=object)"
      ]
     },
     "execution_count": 66,
     "metadata": {},
     "output_type": "execute_result"
    }
   ],
   "source": [
    "df2.values"
   ]
  },
  {
   "cell_type": "code",
   "execution_count": 67,
   "metadata": {},
   "outputs": [
    {
     "data": {
      "text/html": [
       "<div>\n",
       "<style scoped>\n",
       "    .dataframe tbody tr th:only-of-type {\n",
       "        vertical-align: middle;\n",
       "    }\n",
       "\n",
       "    .dataframe tbody tr th {\n",
       "        vertical-align: top;\n",
       "    }\n",
       "\n",
       "    .dataframe thead th {\n",
       "        text-align: right;\n",
       "    }\n",
       "</style>\n",
       "<table border=\"1\" class=\"dataframe\">\n",
       "  <thead>\n",
       "    <tr style=\"text-align: right;\">\n",
       "      <th></th>\n",
       "      <th>age</th>\n",
       "      <th>visits</th>\n",
       "    </tr>\n",
       "  </thead>\n",
       "  <tbody>\n",
       "    <tr>\n",
       "      <td>count</td>\n",
       "      <td>8.000000</td>\n",
       "      <td>10.000000</td>\n",
       "    </tr>\n",
       "    <tr>\n",
       "      <td>mean</td>\n",
       "      <td>3.437500</td>\n",
       "      <td>1.900000</td>\n",
       "    </tr>\n",
       "    <tr>\n",
       "      <td>std</td>\n",
       "      <td>2.007797</td>\n",
       "      <td>0.875595</td>\n",
       "    </tr>\n",
       "    <tr>\n",
       "      <td>min</td>\n",
       "      <td>0.500000</td>\n",
       "      <td>1.000000</td>\n",
       "    </tr>\n",
       "    <tr>\n",
       "      <td>25%</td>\n",
       "      <td>2.375000</td>\n",
       "      <td>1.000000</td>\n",
       "    </tr>\n",
       "    <tr>\n",
       "      <td>50%</td>\n",
       "      <td>3.000000</td>\n",
       "      <td>2.000000</td>\n",
       "    </tr>\n",
       "    <tr>\n",
       "      <td>75%</td>\n",
       "      <td>4.625000</td>\n",
       "      <td>2.750000</td>\n",
       "    </tr>\n",
       "    <tr>\n",
       "      <td>max</td>\n",
       "      <td>7.000000</td>\n",
       "      <td>3.000000</td>\n",
       "    </tr>\n",
       "  </tbody>\n",
       "</table>\n",
       "</div>"
      ],
      "text/plain": [
       "            age     visits\n",
       "count  8.000000  10.000000\n",
       "mean   3.437500   1.900000\n",
       "std    2.007797   0.875595\n",
       "min    0.500000   1.000000\n",
       "25%    2.375000   1.000000\n",
       "50%    3.000000   2.000000\n",
       "75%    4.625000   2.750000\n",
       "max    7.000000   3.000000"
      ]
     },
     "execution_count": 67,
     "metadata": {},
     "output_type": "execute_result"
    }
   ],
   "source": [
    "df2.describe()"
   ]
  },
  {
   "cell_type": "code",
   "execution_count": 68,
   "metadata": {},
   "outputs": [
    {
     "data": {
      "text/html": [
       "<div>\n",
       "<style scoped>\n",
       "    .dataframe tbody tr th:only-of-type {\n",
       "        vertical-align: middle;\n",
       "    }\n",
       "\n",
       "    .dataframe tbody tr th {\n",
       "        vertical-align: top;\n",
       "    }\n",
       "\n",
       "    .dataframe thead th {\n",
       "        text-align: right;\n",
       "    }\n",
       "</style>\n",
       "<table border=\"1\" class=\"dataframe\">\n",
       "  <thead>\n",
       "    <tr style=\"text-align: right;\">\n",
       "      <th></th>\n",
       "      <th>a</th>\n",
       "      <th>b</th>\n",
       "      <th>c</th>\n",
       "      <th>d</th>\n",
       "      <th>e</th>\n",
       "      <th>f</th>\n",
       "      <th>g</th>\n",
       "      <th>h</th>\n",
       "      <th>i</th>\n",
       "      <th>j</th>\n",
       "    </tr>\n",
       "  </thead>\n",
       "  <tbody>\n",
       "    <tr>\n",
       "      <td>animal</td>\n",
       "      <td>cat</td>\n",
       "      <td>cat</td>\n",
       "      <td>snake</td>\n",
       "      <td>dog</td>\n",
       "      <td>dog</td>\n",
       "      <td>cat</td>\n",
       "      <td>snake</td>\n",
       "      <td>cat</td>\n",
       "      <td>dog</td>\n",
       "      <td>dog</td>\n",
       "    </tr>\n",
       "    <tr>\n",
       "      <td>age</td>\n",
       "      <td>2.5</td>\n",
       "      <td>3</td>\n",
       "      <td>0.5</td>\n",
       "      <td>NaN</td>\n",
       "      <td>5</td>\n",
       "      <td>2</td>\n",
       "      <td>4.5</td>\n",
       "      <td>NaN</td>\n",
       "      <td>7</td>\n",
       "      <td>3</td>\n",
       "    </tr>\n",
       "    <tr>\n",
       "      <td>visits</td>\n",
       "      <td>1</td>\n",
       "      <td>3</td>\n",
       "      <td>2</td>\n",
       "      <td>3</td>\n",
       "      <td>2</td>\n",
       "      <td>3</td>\n",
       "      <td>1</td>\n",
       "      <td>1</td>\n",
       "      <td>2</td>\n",
       "      <td>1</td>\n",
       "    </tr>\n",
       "    <tr>\n",
       "      <td>priority</td>\n",
       "      <td>yes</td>\n",
       "      <td>yes</td>\n",
       "      <td>no</td>\n",
       "      <td>yes</td>\n",
       "      <td>no</td>\n",
       "      <td>no</td>\n",
       "      <td>no</td>\n",
       "      <td>yes</td>\n",
       "      <td>no</td>\n",
       "      <td>no</td>\n",
       "    </tr>\n",
       "  </tbody>\n",
       "</table>\n",
       "</div>"
      ],
      "text/plain": [
       "            a    b      c    d    e    f      g    h    i    j\n",
       "animal    cat  cat  snake  dog  dog  cat  snake  cat  dog  dog\n",
       "age       2.5    3    0.5  NaN    5    2    4.5  NaN    7    3\n",
       "visits      1    3      2    3    2    3      1    1    2    1\n",
       "priority  yes  yes     no  yes   no   no     no  yes   no   no"
      ]
     },
     "execution_count": 68,
     "metadata": {},
     "output_type": "execute_result"
    }
   ],
   "source": [
    "df2.transpose()"
   ]
  },
  {
   "cell_type": "code",
   "execution_count": 70,
   "metadata": {},
   "outputs": [
    {
     "data": {
      "text/html": [
       "<div>\n",
       "<style scoped>\n",
       "    .dataframe tbody tr th:only-of-type {\n",
       "        vertical-align: middle;\n",
       "    }\n",
       "\n",
       "    .dataframe tbody tr th {\n",
       "        vertical-align: top;\n",
       "    }\n",
       "\n",
       "    .dataframe thead th {\n",
       "        text-align: right;\n",
       "    }\n",
       "</style>\n",
       "<table border=\"1\" class=\"dataframe\">\n",
       "  <thead>\n",
       "    <tr style=\"text-align: right;\">\n",
       "      <th></th>\n",
       "      <th>a</th>\n",
       "      <th>b</th>\n",
       "      <th>c</th>\n",
       "      <th>d</th>\n",
       "      <th>e</th>\n",
       "      <th>f</th>\n",
       "      <th>g</th>\n",
       "      <th>h</th>\n",
       "      <th>i</th>\n",
       "      <th>j</th>\n",
       "    </tr>\n",
       "  </thead>\n",
       "  <tbody>\n",
       "    <tr>\n",
       "      <td>animal</td>\n",
       "      <td>cat</td>\n",
       "      <td>cat</td>\n",
       "      <td>snake</td>\n",
       "      <td>dog</td>\n",
       "      <td>dog</td>\n",
       "      <td>cat</td>\n",
       "      <td>snake</td>\n",
       "      <td>cat</td>\n",
       "      <td>dog</td>\n",
       "      <td>dog</td>\n",
       "    </tr>\n",
       "    <tr>\n",
       "      <td>age</td>\n",
       "      <td>2.5</td>\n",
       "      <td>3</td>\n",
       "      <td>0.5</td>\n",
       "      <td>NaN</td>\n",
       "      <td>5</td>\n",
       "      <td>2</td>\n",
       "      <td>4.5</td>\n",
       "      <td>NaN</td>\n",
       "      <td>7</td>\n",
       "      <td>3</td>\n",
       "    </tr>\n",
       "    <tr>\n",
       "      <td>visits</td>\n",
       "      <td>1</td>\n",
       "      <td>3</td>\n",
       "      <td>2</td>\n",
       "      <td>3</td>\n",
       "      <td>2</td>\n",
       "      <td>3</td>\n",
       "      <td>1</td>\n",
       "      <td>1</td>\n",
       "      <td>2</td>\n",
       "      <td>1</td>\n",
       "    </tr>\n",
       "    <tr>\n",
       "      <td>priority</td>\n",
       "      <td>yes</td>\n",
       "      <td>yes</td>\n",
       "      <td>no</td>\n",
       "      <td>yes</td>\n",
       "      <td>no</td>\n",
       "      <td>no</td>\n",
       "      <td>no</td>\n",
       "      <td>yes</td>\n",
       "      <td>no</td>\n",
       "      <td>no</td>\n",
       "    </tr>\n",
       "  </tbody>\n",
       "</table>\n",
       "</div>"
      ],
      "text/plain": [
       "            a    b      c    d    e    f      g    h    i    j\n",
       "animal    cat  cat  snake  dog  dog  cat  snake  cat  dog  dog\n",
       "age       2.5    3    0.5  NaN    5    2    4.5  NaN    7    3\n",
       "visits      1    3      2    3    2    3      1    1    2    1\n",
       "priority  yes  yes     no  yes   no   no     no  yes   no   no"
      ]
     },
     "execution_count": 70,
     "metadata": {},
     "output_type": "execute_result"
    }
   ],
   "source": [
    "df2.T"
   ]
  },
  {
   "cell_type": "code",
   "execution_count": 73,
   "metadata": {},
   "outputs": [
    {
     "data": {
      "text/html": [
       "<div>\n",
       "<style scoped>\n",
       "    .dataframe tbody tr th:only-of-type {\n",
       "        vertical-align: middle;\n",
       "    }\n",
       "\n",
       "    .dataframe tbody tr th {\n",
       "        vertical-align: top;\n",
       "    }\n",
       "\n",
       "    .dataframe thead th {\n",
       "        text-align: right;\n",
       "    }\n",
       "</style>\n",
       "<table border=\"1\" class=\"dataframe\">\n",
       "  <thead>\n",
       "    <tr style=\"text-align: right;\">\n",
       "      <th></th>\n",
       "      <th>animal</th>\n",
       "      <th>age</th>\n",
       "      <th>visits</th>\n",
       "      <th>priority</th>\n",
       "    </tr>\n",
       "  </thead>\n",
       "  <tbody>\n",
       "    <tr>\n",
       "      <td>c</td>\n",
       "      <td>snake</td>\n",
       "      <td>0.5</td>\n",
       "      <td>2</td>\n",
       "      <td>no</td>\n",
       "    </tr>\n",
       "    <tr>\n",
       "      <td>f</td>\n",
       "      <td>cat</td>\n",
       "      <td>2.0</td>\n",
       "      <td>3</td>\n",
       "      <td>no</td>\n",
       "    </tr>\n",
       "    <tr>\n",
       "      <td>a</td>\n",
       "      <td>cat</td>\n",
       "      <td>2.5</td>\n",
       "      <td>1</td>\n",
       "      <td>yes</td>\n",
       "    </tr>\n",
       "    <tr>\n",
       "      <td>j</td>\n",
       "      <td>dog</td>\n",
       "      <td>3.0</td>\n",
       "      <td>1</td>\n",
       "      <td>no</td>\n",
       "    </tr>\n",
       "    <tr>\n",
       "      <td>b</td>\n",
       "      <td>cat</td>\n",
       "      <td>3.0</td>\n",
       "      <td>3</td>\n",
       "      <td>yes</td>\n",
       "    </tr>\n",
       "    <tr>\n",
       "      <td>g</td>\n",
       "      <td>snake</td>\n",
       "      <td>4.5</td>\n",
       "      <td>1</td>\n",
       "      <td>no</td>\n",
       "    </tr>\n",
       "    <tr>\n",
       "      <td>e</td>\n",
       "      <td>dog</td>\n",
       "      <td>5.0</td>\n",
       "      <td>2</td>\n",
       "      <td>no</td>\n",
       "    </tr>\n",
       "    <tr>\n",
       "      <td>i</td>\n",
       "      <td>dog</td>\n",
       "      <td>7.0</td>\n",
       "      <td>2</td>\n",
       "      <td>no</td>\n",
       "    </tr>\n",
       "    <tr>\n",
       "      <td>h</td>\n",
       "      <td>cat</td>\n",
       "      <td>NaN</td>\n",
       "      <td>1</td>\n",
       "      <td>yes</td>\n",
       "    </tr>\n",
       "    <tr>\n",
       "      <td>d</td>\n",
       "      <td>dog</td>\n",
       "      <td>NaN</td>\n",
       "      <td>3</td>\n",
       "      <td>yes</td>\n",
       "    </tr>\n",
       "  </tbody>\n",
       "</table>\n",
       "</div>"
      ],
      "text/plain": [
       "  animal  age  visits priority\n",
       "c  snake  0.5       2       no\n",
       "f    cat  2.0       3       no\n",
       "a    cat  2.5       1      yes\n",
       "j    dog  3.0       1       no\n",
       "b    cat  3.0       3      yes\n",
       "g  snake  4.5       1       no\n",
       "e    dog  5.0       2       no\n",
       "i    dog  7.0       2       no\n",
       "h    cat  NaN       1      yes\n",
       "d    dog  NaN       3      yes"
      ]
     },
     "execution_count": 73,
     "metadata": {},
     "output_type": "execute_result"
    }
   ],
   "source": [
    "df2.sort_values(by=['age','visits'])"
   ]
  },
  {
   "cell_type": "code",
   "execution_count": 74,
   "metadata": {},
   "outputs": [
    {
     "data": {
      "text/html": [
       "<div>\n",
       "<style scoped>\n",
       "    .dataframe tbody tr th:only-of-type {\n",
       "        vertical-align: middle;\n",
       "    }\n",
       "\n",
       "    .dataframe tbody tr th {\n",
       "        vertical-align: top;\n",
       "    }\n",
       "\n",
       "    .dataframe thead th {\n",
       "        text-align: right;\n",
       "    }\n",
       "</style>\n",
       "<table border=\"1\" class=\"dataframe\">\n",
       "  <thead>\n",
       "    <tr style=\"text-align: right;\">\n",
       "      <th></th>\n",
       "      <th>animal</th>\n",
       "      <th>age</th>\n",
       "      <th>visits</th>\n",
       "      <th>priority</th>\n",
       "    </tr>\n",
       "  </thead>\n",
       "  <tbody>\n",
       "    <tr>\n",
       "      <td>c</td>\n",
       "      <td>snake</td>\n",
       "      <td>0.5</td>\n",
       "      <td>2</td>\n",
       "      <td>no</td>\n",
       "    </tr>\n",
       "    <tr>\n",
       "      <td>f</td>\n",
       "      <td>cat</td>\n",
       "      <td>2.0</td>\n",
       "      <td>3</td>\n",
       "      <td>no</td>\n",
       "    </tr>\n",
       "    <tr>\n",
       "      <td>a</td>\n",
       "      <td>cat</td>\n",
       "      <td>2.5</td>\n",
       "      <td>1</td>\n",
       "      <td>yes</td>\n",
       "    </tr>\n",
       "    <tr>\n",
       "      <td>b</td>\n",
       "      <td>cat</td>\n",
       "      <td>3.0</td>\n",
       "      <td>3</td>\n",
       "      <td>yes</td>\n",
       "    </tr>\n",
       "    <tr>\n",
       "      <td>j</td>\n",
       "      <td>dog</td>\n",
       "      <td>3.0</td>\n",
       "      <td>1</td>\n",
       "      <td>no</td>\n",
       "    </tr>\n",
       "    <tr>\n",
       "      <td>g</td>\n",
       "      <td>snake</td>\n",
       "      <td>4.5</td>\n",
       "      <td>1</td>\n",
       "      <td>no</td>\n",
       "    </tr>\n",
       "    <tr>\n",
       "      <td>e</td>\n",
       "      <td>dog</td>\n",
       "      <td>5.0</td>\n",
       "      <td>2</td>\n",
       "      <td>no</td>\n",
       "    </tr>\n",
       "    <tr>\n",
       "      <td>i</td>\n",
       "      <td>dog</td>\n",
       "      <td>7.0</td>\n",
       "      <td>2</td>\n",
       "      <td>no</td>\n",
       "    </tr>\n",
       "    <tr>\n",
       "      <td>d</td>\n",
       "      <td>dog</td>\n",
       "      <td>NaN</td>\n",
       "      <td>3</td>\n",
       "      <td>yes</td>\n",
       "    </tr>\n",
       "    <tr>\n",
       "      <td>h</td>\n",
       "      <td>cat</td>\n",
       "      <td>NaN</td>\n",
       "      <td>1</td>\n",
       "      <td>yes</td>\n",
       "    </tr>\n",
       "  </tbody>\n",
       "</table>\n",
       "</div>"
      ],
      "text/plain": [
       "  animal  age  visits priority\n",
       "c  snake  0.5       2       no\n",
       "f    cat  2.0       3       no\n",
       "a    cat  2.5       1      yes\n",
       "b    cat  3.0       3      yes\n",
       "j    dog  3.0       1       no\n",
       "g  snake  4.5       1       no\n",
       "e    dog  5.0       2       no\n",
       "i    dog  7.0       2       no\n",
       "d    dog  NaN       3      yes\n",
       "h    cat  NaN       1      yes"
      ]
     },
     "execution_count": 74,
     "metadata": {},
     "output_type": "execute_result"
    }
   ],
   "source": [
    "df2.sort_values(by='age')"
   ]
  },
  {
   "cell_type": "code",
   "execution_count": 75,
   "metadata": {},
   "outputs": [
    {
     "data": {
      "text/html": [
       "<div>\n",
       "<style scoped>\n",
       "    .dataframe tbody tr th:only-of-type {\n",
       "        vertical-align: middle;\n",
       "    }\n",
       "\n",
       "    .dataframe tbody tr th {\n",
       "        vertical-align: top;\n",
       "    }\n",
       "\n",
       "    .dataframe thead th {\n",
       "        text-align: right;\n",
       "    }\n",
       "</style>\n",
       "<table border=\"1\" class=\"dataframe\">\n",
       "  <thead>\n",
       "    <tr style=\"text-align: right;\">\n",
       "      <th></th>\n",
       "      <th>animal</th>\n",
       "      <th>age</th>\n",
       "      <th>visits</th>\n",
       "      <th>priority</th>\n",
       "    </tr>\n",
       "  </thead>\n",
       "  <tbody>\n",
       "    <tr>\n",
       "      <td>b</td>\n",
       "      <td>cat</td>\n",
       "      <td>3.0</td>\n",
       "      <td>3</td>\n",
       "      <td>yes</td>\n",
       "    </tr>\n",
       "    <tr>\n",
       "      <td>c</td>\n",
       "      <td>snake</td>\n",
       "      <td>0.5</td>\n",
       "      <td>2</td>\n",
       "      <td>no</td>\n",
       "    </tr>\n",
       "  </tbody>\n",
       "</table>\n",
       "</div>"
      ],
      "text/plain": [
       "  animal  age  visits priority\n",
       "b    cat  3.0       3      yes\n",
       "c  snake  0.5       2       no"
      ]
     },
     "execution_count": 75,
     "metadata": {},
     "output_type": "execute_result"
    }
   ],
   "source": [
    "df2[1:3]"
   ]
  },
  {
   "cell_type": "code",
   "execution_count": 77,
   "metadata": {},
   "outputs": [
    {
     "data": {
      "text/html": [
       "<div>\n",
       "<style scoped>\n",
       "    .dataframe tbody tr th:only-of-type {\n",
       "        vertical-align: middle;\n",
       "    }\n",
       "\n",
       "    .dataframe tbody tr th {\n",
       "        vertical-align: top;\n",
       "    }\n",
       "\n",
       "    .dataframe thead th {\n",
       "        text-align: right;\n",
       "    }\n",
       "</style>\n",
       "<table border=\"1\" class=\"dataframe\">\n",
       "  <thead>\n",
       "    <tr style=\"text-align: right;\">\n",
       "      <th></th>\n",
       "      <th>age</th>\n",
       "      <th>visits</th>\n",
       "    </tr>\n",
       "  </thead>\n",
       "  <tbody>\n",
       "    <tr>\n",
       "      <td>a</td>\n",
       "      <td>2.5</td>\n",
       "      <td>1</td>\n",
       "    </tr>\n",
       "    <tr>\n",
       "      <td>b</td>\n",
       "      <td>3.0</td>\n",
       "      <td>3</td>\n",
       "    </tr>\n",
       "    <tr>\n",
       "      <td>c</td>\n",
       "      <td>0.5</td>\n",
       "      <td>2</td>\n",
       "    </tr>\n",
       "    <tr>\n",
       "      <td>d</td>\n",
       "      <td>NaN</td>\n",
       "      <td>3</td>\n",
       "    </tr>\n",
       "    <tr>\n",
       "      <td>e</td>\n",
       "      <td>5.0</td>\n",
       "      <td>2</td>\n",
       "    </tr>\n",
       "    <tr>\n",
       "      <td>f</td>\n",
       "      <td>2.0</td>\n",
       "      <td>3</td>\n",
       "    </tr>\n",
       "    <tr>\n",
       "      <td>g</td>\n",
       "      <td>4.5</td>\n",
       "      <td>1</td>\n",
       "    </tr>\n",
       "    <tr>\n",
       "      <td>h</td>\n",
       "      <td>NaN</td>\n",
       "      <td>1</td>\n",
       "    </tr>\n",
       "    <tr>\n",
       "      <td>i</td>\n",
       "      <td>7.0</td>\n",
       "      <td>2</td>\n",
       "    </tr>\n",
       "    <tr>\n",
       "      <td>j</td>\n",
       "      <td>3.0</td>\n",
       "      <td>1</td>\n",
       "    </tr>\n",
       "  </tbody>\n",
       "</table>\n",
       "</div>"
      ],
      "text/plain": [
       "   age  visits\n",
       "a  2.5       1\n",
       "b  3.0       3\n",
       "c  0.5       2\n",
       "d  NaN       3\n",
       "e  5.0       2\n",
       "f  2.0       3\n",
       "g  4.5       1\n",
       "h  NaN       1\n",
       "i  7.0       2\n",
       "j  3.0       1"
      ]
     },
     "execution_count": 77,
     "metadata": {},
     "output_type": "execute_result"
    }
   ],
   "source": [
    "df2[['age','visits']]"
   ]
  },
  {
   "cell_type": "code",
   "execution_count": 79,
   "metadata": {},
   "outputs": [
    {
     "data": {
      "text/plain": [
       "'yes'"
      ]
     },
     "execution_count": 79,
     "metadata": {},
     "output_type": "execute_result"
    }
   ],
   "source": [
    "df2.iloc[1,3]"
   ]
  },
  {
   "cell_type": "code",
   "execution_count": 81,
   "metadata": {},
   "outputs": [
    {
     "data": {
      "text/html": [
       "<div>\n",
       "<style scoped>\n",
       "    .dataframe tbody tr th:only-of-type {\n",
       "        vertical-align: middle;\n",
       "    }\n",
       "\n",
       "    .dataframe tbody tr th {\n",
       "        vertical-align: top;\n",
       "    }\n",
       "\n",
       "    .dataframe thead th {\n",
       "        text-align: right;\n",
       "    }\n",
       "</style>\n",
       "<table border=\"1\" class=\"dataframe\">\n",
       "  <thead>\n",
       "    <tr style=\"text-align: right;\">\n",
       "      <th></th>\n",
       "      <th>visits</th>\n",
       "      <th>priority</th>\n",
       "    </tr>\n",
       "  </thead>\n",
       "  <tbody>\n",
       "    <tr>\n",
       "      <td>b</td>\n",
       "      <td>3</td>\n",
       "      <td>yes</td>\n",
       "    </tr>\n",
       "    <tr>\n",
       "      <td>c</td>\n",
       "      <td>2</td>\n",
       "      <td>no</td>\n",
       "    </tr>\n",
       "  </tbody>\n",
       "</table>\n",
       "</div>"
      ],
      "text/plain": [
       "   visits priority\n",
       "b       3      yes\n",
       "c       2       no"
      ]
     },
     "execution_count": 81,
     "metadata": {},
     "output_type": "execute_result"
    }
   ],
   "source": [
    "df2.iloc[1:3,2:]"
   ]
  },
  {
   "cell_type": "code",
   "execution_count": 82,
   "metadata": {},
   "outputs": [
    {
     "data": {
      "text/html": [
       "<div>\n",
       "<style scoped>\n",
       "    .dataframe tbody tr th:only-of-type {\n",
       "        vertical-align: middle;\n",
       "    }\n",
       "\n",
       "    .dataframe tbody tr th {\n",
       "        vertical-align: top;\n",
       "    }\n",
       "\n",
       "    .dataframe thead th {\n",
       "        text-align: right;\n",
       "    }\n",
       "</style>\n",
       "<table border=\"1\" class=\"dataframe\">\n",
       "  <thead>\n",
       "    <tr style=\"text-align: right;\">\n",
       "      <th></th>\n",
       "      <th>animal</th>\n",
       "      <th>age</th>\n",
       "      <th>visits</th>\n",
       "      <th>priority</th>\n",
       "    </tr>\n",
       "  </thead>\n",
       "  <tbody>\n",
       "    <tr>\n",
       "      <td>a</td>\n",
       "      <td>cat</td>\n",
       "      <td>2.5</td>\n",
       "      <td>1</td>\n",
       "      <td>yes</td>\n",
       "    </tr>\n",
       "    <tr>\n",
       "      <td>b</td>\n",
       "      <td>cat</td>\n",
       "      <td>3.0</td>\n",
       "      <td>3</td>\n",
       "      <td>yes</td>\n",
       "    </tr>\n",
       "    <tr>\n",
       "      <td>c</td>\n",
       "      <td>snake</td>\n",
       "      <td>0.5</td>\n",
       "      <td>2</td>\n",
       "      <td>no</td>\n",
       "    </tr>\n",
       "    <tr>\n",
       "      <td>d</td>\n",
       "      <td>dog</td>\n",
       "      <td>NaN</td>\n",
       "      <td>3</td>\n",
       "      <td>yes</td>\n",
       "    </tr>\n",
       "    <tr>\n",
       "      <td>e</td>\n",
       "      <td>dog</td>\n",
       "      <td>5.0</td>\n",
       "      <td>2</td>\n",
       "      <td>no</td>\n",
       "    </tr>\n",
       "    <tr>\n",
       "      <td>f</td>\n",
       "      <td>cat</td>\n",
       "      <td>2.0</td>\n",
       "      <td>3</td>\n",
       "      <td>no</td>\n",
       "    </tr>\n",
       "    <tr>\n",
       "      <td>g</td>\n",
       "      <td>snake</td>\n",
       "      <td>4.5</td>\n",
       "      <td>1</td>\n",
       "      <td>no</td>\n",
       "    </tr>\n",
       "    <tr>\n",
       "      <td>h</td>\n",
       "      <td>cat</td>\n",
       "      <td>NaN</td>\n",
       "      <td>1</td>\n",
       "      <td>yes</td>\n",
       "    </tr>\n",
       "    <tr>\n",
       "      <td>i</td>\n",
       "      <td>dog</td>\n",
       "      <td>7.0</td>\n",
       "      <td>2</td>\n",
       "      <td>no</td>\n",
       "    </tr>\n",
       "    <tr>\n",
       "      <td>j</td>\n",
       "      <td>dog</td>\n",
       "      <td>3.0</td>\n",
       "      <td>1</td>\n",
       "      <td>no</td>\n",
       "    </tr>\n",
       "  </tbody>\n",
       "</table>\n",
       "</div>"
      ],
      "text/plain": [
       "  animal  age  visits priority\n",
       "a    cat  2.5       1      yes\n",
       "b    cat  3.0       3      yes\n",
       "c  snake  0.5       2       no\n",
       "d    dog  NaN       3      yes\n",
       "e    dog  5.0       2       no\n",
       "f    cat  2.0       3       no\n",
       "g  snake  4.5       1       no\n",
       "h    cat  NaN       1      yes\n",
       "i    dog  7.0       2       no\n",
       "j    dog  3.0       1       no"
      ]
     },
     "execution_count": 82,
     "metadata": {},
     "output_type": "execute_result"
    }
   ],
   "source": [
    "df3 = df2.copy()\n",
    "df3"
   ]
  },
  {
   "cell_type": "code",
   "execution_count": 83,
   "metadata": {},
   "outputs": [
    {
     "data": {
      "text/html": [
       "<div>\n",
       "<style scoped>\n",
       "    .dataframe tbody tr th:only-of-type {\n",
       "        vertical-align: middle;\n",
       "    }\n",
       "\n",
       "    .dataframe tbody tr th {\n",
       "        vertical-align: top;\n",
       "    }\n",
       "\n",
       "    .dataframe thead th {\n",
       "        text-align: right;\n",
       "    }\n",
       "</style>\n",
       "<table border=\"1\" class=\"dataframe\">\n",
       "  <thead>\n",
       "    <tr style=\"text-align: right;\">\n",
       "      <th></th>\n",
       "      <th>animal</th>\n",
       "      <th>age</th>\n",
       "      <th>visits</th>\n",
       "      <th>priority</th>\n",
       "    </tr>\n",
       "  </thead>\n",
       "  <tbody>\n",
       "    <tr>\n",
       "      <td>a</td>\n",
       "      <td>False</td>\n",
       "      <td>False</td>\n",
       "      <td>False</td>\n",
       "      <td>False</td>\n",
       "    </tr>\n",
       "    <tr>\n",
       "      <td>b</td>\n",
       "      <td>False</td>\n",
       "      <td>False</td>\n",
       "      <td>False</td>\n",
       "      <td>False</td>\n",
       "    </tr>\n",
       "    <tr>\n",
       "      <td>c</td>\n",
       "      <td>False</td>\n",
       "      <td>False</td>\n",
       "      <td>False</td>\n",
       "      <td>False</td>\n",
       "    </tr>\n",
       "    <tr>\n",
       "      <td>d</td>\n",
       "      <td>False</td>\n",
       "      <td>True</td>\n",
       "      <td>False</td>\n",
       "      <td>False</td>\n",
       "    </tr>\n",
       "    <tr>\n",
       "      <td>e</td>\n",
       "      <td>False</td>\n",
       "      <td>False</td>\n",
       "      <td>False</td>\n",
       "      <td>False</td>\n",
       "    </tr>\n",
       "    <tr>\n",
       "      <td>f</td>\n",
       "      <td>False</td>\n",
       "      <td>False</td>\n",
       "      <td>False</td>\n",
       "      <td>False</td>\n",
       "    </tr>\n",
       "    <tr>\n",
       "      <td>g</td>\n",
       "      <td>False</td>\n",
       "      <td>False</td>\n",
       "      <td>False</td>\n",
       "      <td>False</td>\n",
       "    </tr>\n",
       "    <tr>\n",
       "      <td>h</td>\n",
       "      <td>False</td>\n",
       "      <td>True</td>\n",
       "      <td>False</td>\n",
       "      <td>False</td>\n",
       "    </tr>\n",
       "    <tr>\n",
       "      <td>i</td>\n",
       "      <td>False</td>\n",
       "      <td>False</td>\n",
       "      <td>False</td>\n",
       "      <td>False</td>\n",
       "    </tr>\n",
       "    <tr>\n",
       "      <td>j</td>\n",
       "      <td>False</td>\n",
       "      <td>False</td>\n",
       "      <td>False</td>\n",
       "      <td>False</td>\n",
       "    </tr>\n",
       "  </tbody>\n",
       "</table>\n",
       "</div>"
      ],
      "text/plain": [
       "   animal    age  visits  priority\n",
       "a   False  False   False     False\n",
       "b   False  False   False     False\n",
       "c   False  False   False     False\n",
       "d   False   True   False     False\n",
       "e   False  False   False     False\n",
       "f   False  False   False     False\n",
       "g   False  False   False     False\n",
       "h   False   True   False     False\n",
       "i   False  False   False     False\n",
       "j   False  False   False     False"
      ]
     },
     "execution_count": 83,
     "metadata": {},
     "output_type": "execute_result"
    }
   ],
   "source": [
    "df3.isnull()"
   ]
  },
  {
   "cell_type": "code",
   "execution_count": 85,
   "metadata": {},
   "outputs": [
    {
     "data": {
      "text/html": [
       "<div>\n",
       "<style scoped>\n",
       "    .dataframe tbody tr th:only-of-type {\n",
       "        vertical-align: middle;\n",
       "    }\n",
       "\n",
       "    .dataframe tbody tr th {\n",
       "        vertical-align: top;\n",
       "    }\n",
       "\n",
       "    .dataframe thead th {\n",
       "        text-align: right;\n",
       "    }\n",
       "</style>\n",
       "<table border=\"1\" class=\"dataframe\">\n",
       "  <thead>\n",
       "    <tr style=\"text-align: right;\">\n",
       "      <th></th>\n",
       "      <th>animal</th>\n",
       "      <th>age</th>\n",
       "      <th>visits</th>\n",
       "      <th>priority</th>\n",
       "    </tr>\n",
       "  </thead>\n",
       "  <tbody>\n",
       "    <tr>\n",
       "      <td>a</td>\n",
       "      <td>cat</td>\n",
       "      <td>2.5</td>\n",
       "      <td>1</td>\n",
       "      <td>yes</td>\n",
       "    </tr>\n",
       "    <tr>\n",
       "      <td>b</td>\n",
       "      <td>cat</td>\n",
       "      <td>3.0</td>\n",
       "      <td>3</td>\n",
       "      <td>yes</td>\n",
       "    </tr>\n",
       "    <tr>\n",
       "      <td>c</td>\n",
       "      <td>snake</td>\n",
       "      <td>0.5</td>\n",
       "      <td>2</td>\n",
       "      <td>no</td>\n",
       "    </tr>\n",
       "    <tr>\n",
       "      <td>d</td>\n",
       "      <td>dog</td>\n",
       "      <td>NaN</td>\n",
       "      <td>3</td>\n",
       "      <td>yes</td>\n",
       "    </tr>\n",
       "    <tr>\n",
       "      <td>e</td>\n",
       "      <td>dog</td>\n",
       "      <td>5.0</td>\n",
       "      <td>2</td>\n",
       "      <td>no</td>\n",
       "    </tr>\n",
       "    <tr>\n",
       "      <td>f</td>\n",
       "      <td>cat</td>\n",
       "      <td>1.5</td>\n",
       "      <td>3</td>\n",
       "      <td>no</td>\n",
       "    </tr>\n",
       "    <tr>\n",
       "      <td>g</td>\n",
       "      <td>snake</td>\n",
       "      <td>4.5</td>\n",
       "      <td>1</td>\n",
       "      <td>no</td>\n",
       "    </tr>\n",
       "    <tr>\n",
       "      <td>h</td>\n",
       "      <td>cat</td>\n",
       "      <td>NaN</td>\n",
       "      <td>1</td>\n",
       "      <td>yes</td>\n",
       "    </tr>\n",
       "    <tr>\n",
       "      <td>i</td>\n",
       "      <td>dog</td>\n",
       "      <td>7.0</td>\n",
       "      <td>2</td>\n",
       "      <td>no</td>\n",
       "    </tr>\n",
       "    <tr>\n",
       "      <td>j</td>\n",
       "      <td>dog</td>\n",
       "      <td>3.0</td>\n",
       "      <td>1</td>\n",
       "      <td>no</td>\n",
       "    </tr>\n",
       "  </tbody>\n",
       "</table>\n",
       "</div>"
      ],
      "text/plain": [
       "  animal  age  visits priority\n",
       "a    cat  2.5       1      yes\n",
       "b    cat  3.0       3      yes\n",
       "c  snake  0.5       2       no\n",
       "d    dog  NaN       3      yes\n",
       "e    dog  5.0       2       no\n",
       "f    cat  1.5       3       no\n",
       "g  snake  4.5       1       no\n",
       "h    cat  NaN       1      yes\n",
       "i    dog  7.0       2       no\n",
       "j    dog  3.0       1       no"
      ]
     },
     "execution_count": 85,
     "metadata": {},
     "output_type": "execute_result"
    }
   ],
   "source": [
    "df3.loc['f','age'] = 1.5\n",
    "df3"
   ]
  },
  {
   "cell_type": "code",
   "execution_count": 86,
   "metadata": {},
   "outputs": [
    {
     "data": {
      "text/plain": [
       "age       3.375\n",
       "visits    1.900\n",
       "dtype: float64"
      ]
     },
     "execution_count": 86,
     "metadata": {},
     "output_type": "execute_result"
    }
   ],
   "source": [
    "df3.mean()"
   ]
  },
  {
   "cell_type": "code",
   "execution_count": 87,
   "metadata": {},
   "outputs": [
    {
     "data": {
      "text/plain": [
       "age    3.375\n",
       "dtype: float64"
      ]
     },
     "execution_count": 87,
     "metadata": {},
     "output_type": "execute_result"
    }
   ],
   "source": [
    "df3[['age']].mean()"
   ]
  },
  {
   "cell_type": "code",
   "execution_count": 91,
   "metadata": {},
   "outputs": [
    {
     "data": {
      "text/plain": [
       "19"
      ]
     },
     "execution_count": 91,
     "metadata": {},
     "output_type": "execute_result"
    }
   ],
   "source": [
    "df3['visits'].sum()"
   ]
  },
  {
   "cell_type": "code",
   "execution_count": 92,
   "metadata": {},
   "outputs": [
    {
     "data": {
      "text/plain": [
       "animal      catcatsnakedogdogcatsnakecatdogdog\n",
       "age                                         27\n",
       "visits                                      19\n",
       "priority              yesyesnoyesnononoyesnono\n",
       "dtype: object"
      ]
     },
     "execution_count": 92,
     "metadata": {},
     "output_type": "execute_result"
    }
   ],
   "source": [
    "df3.sum()"
   ]
  },
  {
   "cell_type": "markdown",
   "metadata": {},
   "source": [
    "# operations for dataframes missing values"
   ]
  },
  {
   "cell_type": "code",
   "execution_count": 93,
   "metadata": {},
   "outputs": [],
   "source": [
    "df4 = df3.copy()"
   ]
  },
  {
   "cell_type": "code",
   "execution_count": 94,
   "metadata": {},
   "outputs": [
    {
     "data": {
      "text/html": [
       "<div>\n",
       "<style scoped>\n",
       "    .dataframe tbody tr th:only-of-type {\n",
       "        vertical-align: middle;\n",
       "    }\n",
       "\n",
       "    .dataframe tbody tr th {\n",
       "        vertical-align: top;\n",
       "    }\n",
       "\n",
       "    .dataframe thead th {\n",
       "        text-align: right;\n",
       "    }\n",
       "</style>\n",
       "<table border=\"1\" class=\"dataframe\">\n",
       "  <thead>\n",
       "    <tr style=\"text-align: right;\">\n",
       "      <th></th>\n",
       "      <th>animal</th>\n",
       "      <th>age</th>\n",
       "      <th>visits</th>\n",
       "      <th>priority</th>\n",
       "    </tr>\n",
       "  </thead>\n",
       "  <tbody>\n",
       "    <tr>\n",
       "      <td>a</td>\n",
       "      <td>cat</td>\n",
       "      <td>2.5</td>\n",
       "      <td>1</td>\n",
       "      <td>yes</td>\n",
       "    </tr>\n",
       "    <tr>\n",
       "      <td>b</td>\n",
       "      <td>cat</td>\n",
       "      <td>3.0</td>\n",
       "      <td>3</td>\n",
       "      <td>yes</td>\n",
       "    </tr>\n",
       "    <tr>\n",
       "      <td>c</td>\n",
       "      <td>snake</td>\n",
       "      <td>0.5</td>\n",
       "      <td>2</td>\n",
       "      <td>no</td>\n",
       "    </tr>\n",
       "    <tr>\n",
       "      <td>d</td>\n",
       "      <td>dog</td>\n",
       "      <td>NaN</td>\n",
       "      <td>3</td>\n",
       "      <td>yes</td>\n",
       "    </tr>\n",
       "    <tr>\n",
       "      <td>e</td>\n",
       "      <td>dog</td>\n",
       "      <td>5.0</td>\n",
       "      <td>2</td>\n",
       "      <td>no</td>\n",
       "    </tr>\n",
       "    <tr>\n",
       "      <td>f</td>\n",
       "      <td>cat</td>\n",
       "      <td>1.5</td>\n",
       "      <td>3</td>\n",
       "      <td>no</td>\n",
       "    </tr>\n",
       "    <tr>\n",
       "      <td>g</td>\n",
       "      <td>snake</td>\n",
       "      <td>4.5</td>\n",
       "      <td>1</td>\n",
       "      <td>no</td>\n",
       "    </tr>\n",
       "    <tr>\n",
       "      <td>h</td>\n",
       "      <td>cat</td>\n",
       "      <td>NaN</td>\n",
       "      <td>1</td>\n",
       "      <td>yes</td>\n",
       "    </tr>\n",
       "    <tr>\n",
       "      <td>i</td>\n",
       "      <td>dog</td>\n",
       "      <td>7.0</td>\n",
       "      <td>2</td>\n",
       "      <td>no</td>\n",
       "    </tr>\n",
       "    <tr>\n",
       "      <td>j</td>\n",
       "      <td>dog</td>\n",
       "      <td>3.0</td>\n",
       "      <td>1</td>\n",
       "      <td>no</td>\n",
       "    </tr>\n",
       "  </tbody>\n",
       "</table>\n",
       "</div>"
      ],
      "text/plain": [
       "  animal  age  visits priority\n",
       "a    cat  2.5       1      yes\n",
       "b    cat  3.0       3      yes\n",
       "c  snake  0.5       2       no\n",
       "d    dog  NaN       3      yes\n",
       "e    dog  5.0       2       no\n",
       "f    cat  1.5       3       no\n",
       "g  snake  4.5       1       no\n",
       "h    cat  NaN       1      yes\n",
       "i    dog  7.0       2       no\n",
       "j    dog  3.0       1       no"
      ]
     },
     "execution_count": 94,
     "metadata": {},
     "output_type": "execute_result"
    }
   ],
   "source": [
    "df4"
   ]
  },
  {
   "cell_type": "code",
   "execution_count": 97,
   "metadata": {},
   "outputs": [
    {
     "data": {
      "text/plain": [
       "a    2.500\n",
       "b    3.000\n",
       "c    0.500\n",
       "d    3.375\n",
       "e    5.000\n",
       "f    1.500\n",
       "g    4.500\n",
       "h    3.375\n",
       "i    7.000\n",
       "j    3.000\n",
       "Name: age, dtype: float64"
      ]
     },
     "execution_count": 97,
     "metadata": {},
     "output_type": "execute_result"
    }
   ],
   "source": [
    "meanAge = df4['age'].mean()\n",
    "df4['age'].fillna(meanAge)\n"
   ]
  },
  {
   "cell_type": "code",
   "execution_count": 98,
   "metadata": {},
   "outputs": [
    {
     "data": {
      "text/html": [
       "<div>\n",
       "<style scoped>\n",
       "    .dataframe tbody tr th:only-of-type {\n",
       "        vertical-align: middle;\n",
       "    }\n",
       "\n",
       "    .dataframe tbody tr th {\n",
       "        vertical-align: top;\n",
       "    }\n",
       "\n",
       "    .dataframe thead th {\n",
       "        text-align: right;\n",
       "    }\n",
       "</style>\n",
       "<table border=\"1\" class=\"dataframe\">\n",
       "  <thead>\n",
       "    <tr style=\"text-align: right;\">\n",
       "      <th></th>\n",
       "      <th>animal</th>\n",
       "      <th>age</th>\n",
       "      <th>visits</th>\n",
       "      <th>priority</th>\n",
       "    </tr>\n",
       "  </thead>\n",
       "  <tbody>\n",
       "    <tr>\n",
       "      <td>a</td>\n",
       "      <td>cat</td>\n",
       "      <td>2.5</td>\n",
       "      <td>1</td>\n",
       "      <td>yes</td>\n",
       "    </tr>\n",
       "    <tr>\n",
       "      <td>b</td>\n",
       "      <td>cat</td>\n",
       "      <td>3.0</td>\n",
       "      <td>3</td>\n",
       "      <td>yes</td>\n",
       "    </tr>\n",
       "    <tr>\n",
       "      <td>c</td>\n",
       "      <td>snake</td>\n",
       "      <td>0.5</td>\n",
       "      <td>2</td>\n",
       "      <td>no</td>\n",
       "    </tr>\n",
       "    <tr>\n",
       "      <td>d</td>\n",
       "      <td>dog</td>\n",
       "      <td>NaN</td>\n",
       "      <td>3</td>\n",
       "      <td>yes</td>\n",
       "    </tr>\n",
       "    <tr>\n",
       "      <td>e</td>\n",
       "      <td>dog</td>\n",
       "      <td>5.0</td>\n",
       "      <td>2</td>\n",
       "      <td>no</td>\n",
       "    </tr>\n",
       "    <tr>\n",
       "      <td>f</td>\n",
       "      <td>cat</td>\n",
       "      <td>1.5</td>\n",
       "      <td>3</td>\n",
       "      <td>no</td>\n",
       "    </tr>\n",
       "    <tr>\n",
       "      <td>g</td>\n",
       "      <td>snake</td>\n",
       "      <td>4.5</td>\n",
       "      <td>1</td>\n",
       "      <td>no</td>\n",
       "    </tr>\n",
       "    <tr>\n",
       "      <td>h</td>\n",
       "      <td>cat</td>\n",
       "      <td>NaN</td>\n",
       "      <td>1</td>\n",
       "      <td>yes</td>\n",
       "    </tr>\n",
       "    <tr>\n",
       "      <td>i</td>\n",
       "      <td>dog</td>\n",
       "      <td>7.0</td>\n",
       "      <td>2</td>\n",
       "      <td>no</td>\n",
       "    </tr>\n",
       "    <tr>\n",
       "      <td>j</td>\n",
       "      <td>dog</td>\n",
       "      <td>3.0</td>\n",
       "      <td>1</td>\n",
       "      <td>no</td>\n",
       "    </tr>\n",
       "  </tbody>\n",
       "</table>\n",
       "</div>"
      ],
      "text/plain": [
       "  animal  age  visits priority\n",
       "a    cat  2.5       1      yes\n",
       "b    cat  3.0       3      yes\n",
       "c  snake  0.5       2       no\n",
       "d    dog  NaN       3      yes\n",
       "e    dog  5.0       2       no\n",
       "f    cat  1.5       3       no\n",
       "g  snake  4.5       1       no\n",
       "h    cat  NaN       1      yes\n",
       "i    dog  7.0       2       no\n",
       "j    dog  3.0       1       no"
      ]
     },
     "execution_count": 98,
     "metadata": {},
     "output_type": "execute_result"
    }
   ],
   "source": [
    "df5 = df3.copy()\n",
    "df5"
   ]
  },
  {
   "cell_type": "code",
   "execution_count": 99,
   "metadata": {},
   "outputs": [
    {
     "data": {
      "text/html": [
       "<div>\n",
       "<style scoped>\n",
       "    .dataframe tbody tr th:only-of-type {\n",
       "        vertical-align: middle;\n",
       "    }\n",
       "\n",
       "    .dataframe tbody tr th {\n",
       "        vertical-align: top;\n",
       "    }\n",
       "\n",
       "    .dataframe thead th {\n",
       "        text-align: right;\n",
       "    }\n",
       "</style>\n",
       "<table border=\"1\" class=\"dataframe\">\n",
       "  <thead>\n",
       "    <tr style=\"text-align: right;\">\n",
       "      <th></th>\n",
       "      <th>animal</th>\n",
       "      <th>age</th>\n",
       "      <th>visits</th>\n",
       "      <th>priority</th>\n",
       "    </tr>\n",
       "  </thead>\n",
       "  <tbody>\n",
       "    <tr>\n",
       "      <td>a</td>\n",
       "      <td>cat</td>\n",
       "      <td>2.5</td>\n",
       "      <td>1</td>\n",
       "      <td>yes</td>\n",
       "    </tr>\n",
       "    <tr>\n",
       "      <td>b</td>\n",
       "      <td>cat</td>\n",
       "      <td>3.0</td>\n",
       "      <td>3</td>\n",
       "      <td>yes</td>\n",
       "    </tr>\n",
       "    <tr>\n",
       "      <td>c</td>\n",
       "      <td>snake</td>\n",
       "      <td>0.5</td>\n",
       "      <td>2</td>\n",
       "      <td>no</td>\n",
       "    </tr>\n",
       "    <tr>\n",
       "      <td>e</td>\n",
       "      <td>dog</td>\n",
       "      <td>5.0</td>\n",
       "      <td>2</td>\n",
       "      <td>no</td>\n",
       "    </tr>\n",
       "    <tr>\n",
       "      <td>f</td>\n",
       "      <td>cat</td>\n",
       "      <td>1.5</td>\n",
       "      <td>3</td>\n",
       "      <td>no</td>\n",
       "    </tr>\n",
       "    <tr>\n",
       "      <td>g</td>\n",
       "      <td>snake</td>\n",
       "      <td>4.5</td>\n",
       "      <td>1</td>\n",
       "      <td>no</td>\n",
       "    </tr>\n",
       "    <tr>\n",
       "      <td>i</td>\n",
       "      <td>dog</td>\n",
       "      <td>7.0</td>\n",
       "      <td>2</td>\n",
       "      <td>no</td>\n",
       "    </tr>\n",
       "    <tr>\n",
       "      <td>j</td>\n",
       "      <td>dog</td>\n",
       "      <td>3.0</td>\n",
       "      <td>1</td>\n",
       "      <td>no</td>\n",
       "    </tr>\n",
       "  </tbody>\n",
       "</table>\n",
       "</div>"
      ],
      "text/plain": [
       "  animal  age  visits priority\n",
       "a    cat  2.5       1      yes\n",
       "b    cat  3.0       3      yes\n",
       "c  snake  0.5       2       no\n",
       "e    dog  5.0       2       no\n",
       "f    cat  1.5       3       no\n",
       "g  snake  4.5       1       no\n",
       "i    dog  7.0       2       no\n",
       "j    dog  3.0       1       no"
      ]
     },
     "execution_count": 99,
     "metadata": {},
     "output_type": "execute_result"
    }
   ],
   "source": [
    "df5.dropna(how='any')"
   ]
  },
  {
   "cell_type": "code",
   "execution_count": 100,
   "metadata": {},
   "outputs": [
    {
     "data": {
      "text/html": [
       "<div>\n",
       "<style scoped>\n",
       "    .dataframe tbody tr th:only-of-type {\n",
       "        vertical-align: middle;\n",
       "    }\n",
       "\n",
       "    .dataframe tbody tr th {\n",
       "        vertical-align: top;\n",
       "    }\n",
       "\n",
       "    .dataframe thead th {\n",
       "        text-align: right;\n",
       "    }\n",
       "</style>\n",
       "<table border=\"1\" class=\"dataframe\">\n",
       "  <thead>\n",
       "    <tr style=\"text-align: right;\">\n",
       "      <th></th>\n",
       "      <th>animal</th>\n",
       "      <th>visits</th>\n",
       "      <th>priority</th>\n",
       "    </tr>\n",
       "  </thead>\n",
       "  <tbody>\n",
       "    <tr>\n",
       "      <td>a</td>\n",
       "      <td>cat</td>\n",
       "      <td>1</td>\n",
       "      <td>yes</td>\n",
       "    </tr>\n",
       "    <tr>\n",
       "      <td>b</td>\n",
       "      <td>cat</td>\n",
       "      <td>3</td>\n",
       "      <td>yes</td>\n",
       "    </tr>\n",
       "    <tr>\n",
       "      <td>c</td>\n",
       "      <td>snake</td>\n",
       "      <td>2</td>\n",
       "      <td>no</td>\n",
       "    </tr>\n",
       "    <tr>\n",
       "      <td>d</td>\n",
       "      <td>dog</td>\n",
       "      <td>3</td>\n",
       "      <td>yes</td>\n",
       "    </tr>\n",
       "    <tr>\n",
       "      <td>e</td>\n",
       "      <td>dog</td>\n",
       "      <td>2</td>\n",
       "      <td>no</td>\n",
       "    </tr>\n",
       "    <tr>\n",
       "      <td>f</td>\n",
       "      <td>cat</td>\n",
       "      <td>3</td>\n",
       "      <td>no</td>\n",
       "    </tr>\n",
       "    <tr>\n",
       "      <td>g</td>\n",
       "      <td>snake</td>\n",
       "      <td>1</td>\n",
       "      <td>no</td>\n",
       "    </tr>\n",
       "    <tr>\n",
       "      <td>h</td>\n",
       "      <td>cat</td>\n",
       "      <td>1</td>\n",
       "      <td>yes</td>\n",
       "    </tr>\n",
       "    <tr>\n",
       "      <td>i</td>\n",
       "      <td>dog</td>\n",
       "      <td>2</td>\n",
       "      <td>no</td>\n",
       "    </tr>\n",
       "    <tr>\n",
       "      <td>j</td>\n",
       "      <td>dog</td>\n",
       "      <td>1</td>\n",
       "      <td>no</td>\n",
       "    </tr>\n",
       "  </tbody>\n",
       "</table>\n",
       "</div>"
      ],
      "text/plain": [
       "  animal  visits priority\n",
       "a    cat       1      yes\n",
       "b    cat       3      yes\n",
       "c  snake       2       no\n",
       "d    dog       3      yes\n",
       "e    dog       2       no\n",
       "f    cat       3       no\n",
       "g  snake       1       no\n",
       "h    cat       1      yes\n",
       "i    dog       2       no\n",
       "j    dog       1       no"
      ]
     },
     "execution_count": 100,
     "metadata": {},
     "output_type": "execute_result"
    }
   ],
   "source": [
    "df5.dropna(axis=1)"
   ]
  },
  {
   "cell_type": "markdown",
   "metadata": {},
   "source": [
    "# dataframes file operations"
   ]
  },
  {
   "cell_type": "code",
   "execution_count": 103,
   "metadata": {},
   "outputs": [],
   "source": [
    "df3.to_csv('animal.csv')"
   ]
  },
  {
   "cell_type": "code",
   "execution_count": 107,
   "metadata": {},
   "outputs": [
    {
     "data": {
      "text/html": [
       "<div>\n",
       "<style scoped>\n",
       "    .dataframe tbody tr th:only-of-type {\n",
       "        vertical-align: middle;\n",
       "    }\n",
       "\n",
       "    .dataframe tbody tr th {\n",
       "        vertical-align: top;\n",
       "    }\n",
       "\n",
       "    .dataframe thead th {\n",
       "        text-align: right;\n",
       "    }\n",
       "</style>\n",
       "<table border=\"1\" class=\"dataframe\">\n",
       "  <thead>\n",
       "    <tr style=\"text-align: right;\">\n",
       "      <th></th>\n",
       "      <th>animal</th>\n",
       "      <th>age</th>\n",
       "      <th>visits</th>\n",
       "      <th>priority</th>\n",
       "    </tr>\n",
       "  </thead>\n",
       "  <tbody>\n",
       "    <tr>\n",
       "      <td>a</td>\n",
       "      <td>cat</td>\n",
       "      <td>2.5</td>\n",
       "      <td>1</td>\n",
       "      <td>yes</td>\n",
       "    </tr>\n",
       "    <tr>\n",
       "      <td>b</td>\n",
       "      <td>cat</td>\n",
       "      <td>3.0</td>\n",
       "      <td>3</td>\n",
       "      <td>yes</td>\n",
       "    </tr>\n",
       "    <tr>\n",
       "      <td>c</td>\n",
       "      <td>snake</td>\n",
       "      <td>0.5</td>\n",
       "      <td>2</td>\n",
       "      <td>no</td>\n",
       "    </tr>\n",
       "    <tr>\n",
       "      <td>d</td>\n",
       "      <td>dog</td>\n",
       "      <td>NaN</td>\n",
       "      <td>3</td>\n",
       "      <td>yes</td>\n",
       "    </tr>\n",
       "    <tr>\n",
       "      <td>e</td>\n",
       "      <td>dog</td>\n",
       "      <td>5.0</td>\n",
       "      <td>2</td>\n",
       "      <td>no</td>\n",
       "    </tr>\n",
       "    <tr>\n",
       "      <td>f</td>\n",
       "      <td>cat</td>\n",
       "      <td>1.5</td>\n",
       "      <td>3</td>\n",
       "      <td>no</td>\n",
       "    </tr>\n",
       "    <tr>\n",
       "      <td>g</td>\n",
       "      <td>snake</td>\n",
       "      <td>4.5</td>\n",
       "      <td>1</td>\n",
       "      <td>no</td>\n",
       "    </tr>\n",
       "    <tr>\n",
       "      <td>h</td>\n",
       "      <td>cat</td>\n",
       "      <td>NaN</td>\n",
       "      <td>1</td>\n",
       "      <td>yes</td>\n",
       "    </tr>\n",
       "    <tr>\n",
       "      <td>i</td>\n",
       "      <td>dog</td>\n",
       "      <td>7.0</td>\n",
       "      <td>2</td>\n",
       "      <td>no</td>\n",
       "    </tr>\n",
       "    <tr>\n",
       "      <td>j</td>\n",
       "      <td>dog</td>\n",
       "      <td>3.0</td>\n",
       "      <td>1</td>\n",
       "      <td>no</td>\n",
       "    </tr>\n",
       "  </tbody>\n",
       "</table>\n",
       "</div>"
      ],
      "text/plain": [
       "  animal  age  visits priority\n",
       "a    cat  2.5       1      yes\n",
       "b    cat  3.0       3      yes\n",
       "c  snake  0.5       2       no\n",
       "d    dog  NaN       3      yes\n",
       "e    dog  5.0       2       no\n",
       "f    cat  1.5       3       no\n",
       "g  snake  4.5       1       no\n",
       "h    cat  NaN       1      yes\n",
       "i    dog  7.0       2       no\n",
       "j    dog  3.0       1       no"
      ]
     },
     "execution_count": 107,
     "metadata": {},
     "output_type": "execute_result"
    }
   ],
   "source": [
    "df_animal = pd.read_csv('animal.csv',index_col=0)\n",
    "df_animal"
   ]
  },
  {
   "cell_type": "code",
   "execution_count": 111,
   "metadata": {},
   "outputs": [],
   "source": [
    "import json\n"
   ]
  },
  {
   "cell_type": "code",
   "execution_count": 112,
   "metadata": {},
   "outputs": [
    {
     "ename": "AttributeError",
     "evalue": "'str' object has no attribute 'read'",
     "output_type": "error",
     "traceback": [
      "\u001b[0;31m---------------------------------------------------------------------------\u001b[0m",
      "\u001b[0;31mAttributeError\u001b[0m                            Traceback (most recent call last)",
      "\u001b[0;32m<ipython-input-112-2e9b05465007>\u001b[0m in \u001b[0;36m<module>\u001b[0;34m()\u001b[0m\n\u001b[0;32m----> 1\u001b[0;31m \u001b[0mjson_data\u001b[0m \u001b[0;34m=\u001b[0m \u001b[0mjson\u001b[0m\u001b[0;34m.\u001b[0m\u001b[0mload\u001b[0m\u001b[0;34m(\u001b[0m\u001b[0;34m'animal.json'\u001b[0m\u001b[0;34m)\u001b[0m\u001b[0;34m\u001b[0m\u001b[0;34m\u001b[0m\u001b[0m\n\u001b[0m\u001b[1;32m      2\u001b[0m \u001b[0mjson_data\u001b[0m\u001b[0;34m\u001b[0m\u001b[0;34m\u001b[0m\u001b[0m\n",
      "\u001b[0;32m/usr/lib/python3.6/json/__init__.py\u001b[0m in \u001b[0;36mload\u001b[0;34m(fp, cls, object_hook, parse_float, parse_int, parse_constant, object_pairs_hook, **kw)\u001b[0m\n\u001b[1;32m    294\u001b[0m \u001b[0;34m\u001b[0m\u001b[0m\n\u001b[1;32m    295\u001b[0m     \"\"\"\n\u001b[0;32m--> 296\u001b[0;31m     return loads(fp.read(),\n\u001b[0m\u001b[1;32m    297\u001b[0m         \u001b[0mcls\u001b[0m\u001b[0;34m=\u001b[0m\u001b[0mcls\u001b[0m\u001b[0;34m,\u001b[0m \u001b[0mobject_hook\u001b[0m\u001b[0;34m=\u001b[0m\u001b[0mobject_hook\u001b[0m\u001b[0;34m,\u001b[0m\u001b[0;34m\u001b[0m\u001b[0;34m\u001b[0m\u001b[0m\n\u001b[1;32m    298\u001b[0m         \u001b[0mparse_float\u001b[0m\u001b[0;34m=\u001b[0m\u001b[0mparse_float\u001b[0m\u001b[0;34m,\u001b[0m \u001b[0mparse_int\u001b[0m\u001b[0;34m=\u001b[0m\u001b[0mparse_int\u001b[0m\u001b[0;34m,\u001b[0m\u001b[0;34m\u001b[0m\u001b[0;34m\u001b[0m\u001b[0m\n",
      "\u001b[0;31mAttributeError\u001b[0m: 'str' object has no attribute 'read'"
     ]
    }
   ],
   "source": [
    "json_data = json.load('animal.json')\n",
    "json_data"
   ]
  },
  {
   "cell_type": "code",
   "execution_count": 109,
   "metadata": {},
   "outputs": [],
   "source": [
    "df3.to_json('animal.json')"
   ]
  },
  {
   "cell_type": "code",
   "execution_count": 110,
   "metadata": {},
   "outputs": [
    {
     "ename": "ValueError",
     "evalue": "Expected object or value",
     "output_type": "error",
     "traceback": [
      "\u001b[0;31m---------------------------------------------------------------------------\u001b[0m",
      "\u001b[0;31mValueError\u001b[0m                                Traceback (most recent call last)",
      "\u001b[0;32m<ipython-input-110-6f116a8868f3>\u001b[0m in \u001b[0;36m<module>\u001b[0;34m()\u001b[0m\n\u001b[0;32m----> 1\u001b[0;31m \u001b[0mdf_animal2\u001b[0m \u001b[0;34m=\u001b[0m \u001b[0mpd\u001b[0m\u001b[0;34m.\u001b[0m\u001b[0mread_json\u001b[0m\u001b[0;34m(\u001b[0m\u001b[0;34m'animal.csv'\u001b[0m\u001b[0;34m)\u001b[0m\u001b[0;34m\u001b[0m\u001b[0;34m\u001b[0m\u001b[0m\n\u001b[0m\u001b[1;32m      2\u001b[0m \u001b[0mdf_animal2\u001b[0m\u001b[0;34m\u001b[0m\u001b[0;34m\u001b[0m\u001b[0m\n",
      "\u001b[0;32m/usr/local/lib/python3.6/dist-packages/pandas/io/json/_json.py\u001b[0m in \u001b[0;36mread_json\u001b[0;34m(path_or_buf, orient, typ, dtype, convert_axes, convert_dates, keep_default_dates, numpy, precise_float, date_unit, encoding, lines, chunksize, compression)\u001b[0m\n\u001b[1;32m    590\u001b[0m         \u001b[0;32mreturn\u001b[0m \u001b[0mjson_reader\u001b[0m\u001b[0;34m\u001b[0m\u001b[0;34m\u001b[0m\u001b[0m\n\u001b[1;32m    591\u001b[0m \u001b[0;34m\u001b[0m\u001b[0m\n\u001b[0;32m--> 592\u001b[0;31m     \u001b[0mresult\u001b[0m \u001b[0;34m=\u001b[0m \u001b[0mjson_reader\u001b[0m\u001b[0;34m.\u001b[0m\u001b[0mread\u001b[0m\u001b[0;34m(\u001b[0m\u001b[0;34m)\u001b[0m\u001b[0;34m\u001b[0m\u001b[0;34m\u001b[0m\u001b[0m\n\u001b[0m\u001b[1;32m    593\u001b[0m     \u001b[0;32mif\u001b[0m \u001b[0mshould_close\u001b[0m\u001b[0;34m:\u001b[0m\u001b[0;34m\u001b[0m\u001b[0;34m\u001b[0m\u001b[0m\n\u001b[1;32m    594\u001b[0m         \u001b[0;32mtry\u001b[0m\u001b[0;34m:\u001b[0m\u001b[0;34m\u001b[0m\u001b[0;34m\u001b[0m\u001b[0m\n",
      "\u001b[0;32m/usr/local/lib/python3.6/dist-packages/pandas/io/json/_json.py\u001b[0m in \u001b[0;36mread\u001b[0;34m(self)\u001b[0m\n\u001b[1;32m    715\u001b[0m             \u001b[0mobj\u001b[0m \u001b[0;34m=\u001b[0m \u001b[0mself\u001b[0m\u001b[0;34m.\u001b[0m\u001b[0m_get_object_parser\u001b[0m\u001b[0;34m(\u001b[0m\u001b[0mself\u001b[0m\u001b[0;34m.\u001b[0m\u001b[0m_combine_lines\u001b[0m\u001b[0;34m(\u001b[0m\u001b[0mdata\u001b[0m\u001b[0;34m.\u001b[0m\u001b[0msplit\u001b[0m\u001b[0;34m(\u001b[0m\u001b[0;34m\"\\n\"\u001b[0m\u001b[0;34m)\u001b[0m\u001b[0;34m)\u001b[0m\u001b[0;34m)\u001b[0m\u001b[0;34m\u001b[0m\u001b[0;34m\u001b[0m\u001b[0m\n\u001b[1;32m    716\u001b[0m         \u001b[0;32melse\u001b[0m\u001b[0;34m:\u001b[0m\u001b[0;34m\u001b[0m\u001b[0;34m\u001b[0m\u001b[0m\n\u001b[0;32m--> 717\u001b[0;31m             \u001b[0mobj\u001b[0m \u001b[0;34m=\u001b[0m \u001b[0mself\u001b[0m\u001b[0;34m.\u001b[0m\u001b[0m_get_object_parser\u001b[0m\u001b[0;34m(\u001b[0m\u001b[0mself\u001b[0m\u001b[0;34m.\u001b[0m\u001b[0mdata\u001b[0m\u001b[0;34m)\u001b[0m\u001b[0;34m\u001b[0m\u001b[0;34m\u001b[0m\u001b[0m\n\u001b[0m\u001b[1;32m    718\u001b[0m         \u001b[0mself\u001b[0m\u001b[0;34m.\u001b[0m\u001b[0mclose\u001b[0m\u001b[0;34m(\u001b[0m\u001b[0;34m)\u001b[0m\u001b[0;34m\u001b[0m\u001b[0;34m\u001b[0m\u001b[0m\n\u001b[1;32m    719\u001b[0m         \u001b[0;32mreturn\u001b[0m \u001b[0mobj\u001b[0m\u001b[0;34m\u001b[0m\u001b[0;34m\u001b[0m\u001b[0m\n",
      "\u001b[0;32m/usr/local/lib/python3.6/dist-packages/pandas/io/json/_json.py\u001b[0m in \u001b[0;36m_get_object_parser\u001b[0;34m(self, json)\u001b[0m\n\u001b[1;32m    737\u001b[0m         \u001b[0mobj\u001b[0m \u001b[0;34m=\u001b[0m \u001b[0;32mNone\u001b[0m\u001b[0;34m\u001b[0m\u001b[0;34m\u001b[0m\u001b[0m\n\u001b[1;32m    738\u001b[0m         \u001b[0;32mif\u001b[0m \u001b[0mtyp\u001b[0m \u001b[0;34m==\u001b[0m \u001b[0;34m\"frame\"\u001b[0m\u001b[0;34m:\u001b[0m\u001b[0;34m\u001b[0m\u001b[0;34m\u001b[0m\u001b[0m\n\u001b[0;32m--> 739\u001b[0;31m             \u001b[0mobj\u001b[0m \u001b[0;34m=\u001b[0m \u001b[0mFrameParser\u001b[0m\u001b[0;34m(\u001b[0m\u001b[0mjson\u001b[0m\u001b[0;34m,\u001b[0m \u001b[0;34m**\u001b[0m\u001b[0mkwargs\u001b[0m\u001b[0;34m)\u001b[0m\u001b[0;34m.\u001b[0m\u001b[0mparse\u001b[0m\u001b[0;34m(\u001b[0m\u001b[0;34m)\u001b[0m\u001b[0;34m\u001b[0m\u001b[0;34m\u001b[0m\u001b[0m\n\u001b[0m\u001b[1;32m    740\u001b[0m \u001b[0;34m\u001b[0m\u001b[0m\n\u001b[1;32m    741\u001b[0m         \u001b[0;32mif\u001b[0m \u001b[0mtyp\u001b[0m \u001b[0;34m==\u001b[0m \u001b[0;34m\"series\"\u001b[0m \u001b[0;32mor\u001b[0m \u001b[0mobj\u001b[0m \u001b[0;32mis\u001b[0m \u001b[0;32mNone\u001b[0m\u001b[0;34m:\u001b[0m\u001b[0;34m\u001b[0m\u001b[0;34m\u001b[0m\u001b[0m\n",
      "\u001b[0;32m/usr/local/lib/python3.6/dist-packages/pandas/io/json/_json.py\u001b[0m in \u001b[0;36mparse\u001b[0;34m(self)\u001b[0m\n\u001b[1;32m    847\u001b[0m \u001b[0;34m\u001b[0m\u001b[0m\n\u001b[1;32m    848\u001b[0m         \u001b[0;32melse\u001b[0m\u001b[0;34m:\u001b[0m\u001b[0;34m\u001b[0m\u001b[0;34m\u001b[0m\u001b[0m\n\u001b[0;32m--> 849\u001b[0;31m             \u001b[0mself\u001b[0m\u001b[0;34m.\u001b[0m\u001b[0m_parse_no_numpy\u001b[0m\u001b[0;34m(\u001b[0m\u001b[0;34m)\u001b[0m\u001b[0;34m\u001b[0m\u001b[0;34m\u001b[0m\u001b[0m\n\u001b[0m\u001b[1;32m    850\u001b[0m \u001b[0;34m\u001b[0m\u001b[0m\n\u001b[1;32m    851\u001b[0m         \u001b[0;32mif\u001b[0m \u001b[0mself\u001b[0m\u001b[0;34m.\u001b[0m\u001b[0mobj\u001b[0m \u001b[0;32mis\u001b[0m \u001b[0;32mNone\u001b[0m\u001b[0;34m:\u001b[0m\u001b[0;34m\u001b[0m\u001b[0;34m\u001b[0m\u001b[0m\n",
      "\u001b[0;32m/usr/local/lib/python3.6/dist-packages/pandas/io/json/_json.py\u001b[0m in \u001b[0;36m_parse_no_numpy\u001b[0;34m(self)\u001b[0m\n\u001b[1;32m   1091\u001b[0m         \u001b[0;32mif\u001b[0m \u001b[0morient\u001b[0m \u001b[0;34m==\u001b[0m \u001b[0;34m\"columns\"\u001b[0m\u001b[0;34m:\u001b[0m\u001b[0;34m\u001b[0m\u001b[0;34m\u001b[0m\u001b[0m\n\u001b[1;32m   1092\u001b[0m             self.obj = DataFrame(\n\u001b[0;32m-> 1093\u001b[0;31m                 \u001b[0mloads\u001b[0m\u001b[0;34m(\u001b[0m\u001b[0mjson\u001b[0m\u001b[0;34m,\u001b[0m \u001b[0mprecise_float\u001b[0m\u001b[0;34m=\u001b[0m\u001b[0mself\u001b[0m\u001b[0;34m.\u001b[0m\u001b[0mprecise_float\u001b[0m\u001b[0;34m)\u001b[0m\u001b[0;34m,\u001b[0m \u001b[0mdtype\u001b[0m\u001b[0;34m=\u001b[0m\u001b[0;32mNone\u001b[0m\u001b[0;34m\u001b[0m\u001b[0;34m\u001b[0m\u001b[0m\n\u001b[0m\u001b[1;32m   1094\u001b[0m             )\n\u001b[1;32m   1095\u001b[0m         \u001b[0;32melif\u001b[0m \u001b[0morient\u001b[0m \u001b[0;34m==\u001b[0m \u001b[0;34m\"split\"\u001b[0m\u001b[0;34m:\u001b[0m\u001b[0;34m\u001b[0m\u001b[0;34m\u001b[0m\u001b[0m\n",
      "\u001b[0;31mValueError\u001b[0m: Expected object or value"
     ]
    }
   ],
   "source": [
    "df_animal2 = pd.read_json('animal.csv')\n",
    "df_animal2"
   ]
  },
  {
   "cell_type": "markdown",
   "metadata": {},
   "source": [
    "# visualization in pandas"
   ]
  },
  {
   "cell_type": "code",
   "execution_count": 113,
   "metadata": {},
   "outputs": [],
   "source": [
    "%matplotlib inline"
   ]
  },
  {
   "cell_type": "code",
   "execution_count": 114,
   "metadata": {},
   "outputs": [],
   "source": [
    "ts = pd.Series(np.random.randn(50),index=pd.date_range('today',periods=50))"
   ]
  },
  {
   "cell_type": "code",
   "execution_count": 115,
   "metadata": {},
   "outputs": [
    {
     "data": {
      "text/plain": [
       "2019-09-03 11:34:15.952751    1.196579\n",
       "2019-09-04 11:34:15.952751    0.365407\n",
       "2019-09-05 11:34:15.952751   -0.136843\n",
       "2019-09-06 11:34:15.952751   -0.616669\n",
       "2019-09-07 11:34:15.952751   -1.583499\n",
       "2019-09-08 11:34:15.952751    0.101107\n",
       "2019-09-09 11:34:15.952751   -1.064321\n",
       "2019-09-10 11:34:15.952751   -1.741346\n",
       "2019-09-11 11:34:15.952751    0.259664\n",
       "2019-09-12 11:34:15.952751   -0.670748\n",
       "2019-09-13 11:34:15.952751   -0.468689\n",
       "2019-09-14 11:34:15.952751   -0.222987\n",
       "2019-09-15 11:34:15.952751    0.643101\n",
       "2019-09-16 11:34:15.952751   -0.252430\n",
       "2019-09-17 11:34:15.952751   -1.635629\n",
       "2019-09-18 11:34:15.952751    0.491126\n",
       "2019-09-19 11:34:15.952751   -1.367566\n",
       "2019-09-20 11:34:15.952751    1.635098\n",
       "2019-09-21 11:34:15.952751   -1.273968\n",
       "2019-09-22 11:34:15.952751   -0.971085\n",
       "2019-09-23 11:34:15.952751    0.165911\n",
       "2019-09-24 11:34:15.952751    0.737150\n",
       "2019-09-25 11:34:15.952751   -1.618085\n",
       "2019-09-26 11:34:15.952751   -1.309416\n",
       "2019-09-27 11:34:15.952751   -0.593657\n",
       "2019-09-28 11:34:15.952751   -1.701012\n",
       "2019-09-29 11:34:15.952751    2.236737\n",
       "2019-09-30 11:34:15.952751   -1.570621\n",
       "2019-10-01 11:34:15.952751    0.357085\n",
       "2019-10-02 11:34:15.952751   -0.803536\n",
       "2019-10-03 11:34:15.952751    0.114541\n",
       "2019-10-04 11:34:15.952751    0.292188\n",
       "2019-10-05 11:34:15.952751    0.077584\n",
       "2019-10-06 11:34:15.952751    0.395856\n",
       "2019-10-07 11:34:15.952751   -1.515763\n",
       "2019-10-08 11:34:15.952751    0.064003\n",
       "2019-10-09 11:34:15.952751   -0.389105\n",
       "2019-10-10 11:34:15.952751   -1.527030\n",
       "2019-10-11 11:34:15.952751    0.479858\n",
       "2019-10-12 11:34:15.952751   -0.246183\n",
       "2019-10-13 11:34:15.952751    1.227513\n",
       "2019-10-14 11:34:15.952751   -0.203763\n",
       "2019-10-15 11:34:15.952751    0.141534\n",
       "2019-10-16 11:34:15.952751    0.805095\n",
       "2019-10-17 11:34:15.952751   -0.393644\n",
       "2019-10-18 11:34:15.952751   -0.318200\n",
       "2019-10-19 11:34:15.952751    0.634123\n",
       "2019-10-20 11:34:15.952751   -0.219628\n",
       "2019-10-21 11:34:15.952751   -1.452387\n",
       "2019-10-22 11:34:15.952751   -0.217589\n",
       "Freq: D, dtype: float64"
      ]
     },
     "execution_count": 115,
     "metadata": {},
     "output_type": "execute_result"
    }
   ],
   "source": [
    "ts"
   ]
  },
  {
   "cell_type": "code",
   "execution_count": 116,
   "metadata": {},
   "outputs": [
    {
     "data": {
      "text/plain": [
       "<matplotlib.axes._subplots.AxesSubplot at 0x7fd0d68b29e8>"
      ]
     },
     "execution_count": 116,
     "metadata": {},
     "output_type": "execute_result"
    },
    {
     "data": {
      "image/png": "[encoded data removed]",
      "text/plain": [
       "<Figure size 432x288 with 1 Axes>"
      ]
     },
     "metadata": {},
     "output_type": "display_data"
    }
   ],
   "source": [
    "ts.plot()"
   ]
  },
  {
   "cell_type": "code",
   "execution_count": 117,
   "metadata": {},
   "outputs": [
    {
     "data": {
      "text/plain": [
       "2019-09-03 11:34:15.952751     1.196579\n",
       "2019-09-04 11:34:15.952751     1.561986\n",
       "2019-09-05 11:34:15.952751     1.425144\n",
       "2019-09-06 11:34:15.952751     0.808475\n",
       "2019-09-07 11:34:15.952751    -0.775025\n",
       "2019-09-08 11:34:15.952751    -0.673917\n",
       "2019-09-09 11:34:15.952751    -1.738238\n",
       "2019-09-10 11:34:15.952751    -3.479584\n",
       "2019-09-11 11:34:15.952751    -3.219920\n",
       "2019-09-12 11:34:15.952751    -3.890668\n",
       "2019-09-13 11:34:15.952751    -4.359357\n",
       "2019-09-14 11:34:15.952751    -4.582344\n",
       "2019-09-15 11:34:15.952751    -3.939243\n",
       "2019-09-16 11:34:15.952751    -4.191673\n",
       "2019-09-17 11:34:15.952751    -5.827302\n",
       "2019-09-18 11:34:15.952751    -5.336175\n",
       "2019-09-19 11:34:15.952751    -6.703741\n",
       "2019-09-20 11:34:15.952751    -5.068643\n",
       "2019-09-21 11:34:15.952751    -6.342611\n",
       "2019-09-22 11:34:15.952751    -7.313697\n",
       "2019-09-23 11:34:15.952751    -7.147786\n",
       "2019-09-24 11:34:15.952751    -6.410636\n",
       "2019-09-25 11:34:15.952751    -8.028721\n",
       "2019-09-26 11:34:15.952751    -9.338137\n",
       "2019-09-27 11:34:15.952751    -9.931794\n",
       "2019-09-28 11:34:15.952751   -11.632806\n",
       "2019-09-29 11:34:15.952751    -9.396068\n",
       "2019-09-30 11:34:15.952751   -10.966690\n",
       "2019-10-01 11:34:15.952751   -10.609604\n",
       "2019-10-02 11:34:15.952751   -11.413140\n",
       "2019-10-03 11:34:15.952751   -11.298599\n",
       "2019-10-04 11:34:15.952751   -11.006411\n",
       "2019-10-05 11:34:15.952751   -10.928827\n",
       "2019-10-06 11:34:15.952751   -10.532971\n",
       "2019-10-07 11:34:15.952751   -12.048734\n",
       "2019-10-08 11:34:15.952751   -11.984731\n",
       "2019-10-09 11:34:15.952751   -12.373837\n",
       "2019-10-10 11:34:15.952751   -13.900867\n",
       "2019-10-11 11:34:15.952751   -13.421008\n",
       "2019-10-12 11:34:15.952751   -13.667191\n",
       "2019-10-13 11:34:15.952751   -12.439679\n",
       "2019-10-14 11:34:15.952751   -12.643442\n",
       "2019-10-15 11:34:15.952751   -12.501907\n",
       "2019-10-16 11:34:15.952751   -11.696812\n",
       "2019-10-17 11:34:15.952751   -12.090456\n",
       "2019-10-18 11:34:15.952751   -12.408656\n",
       "2019-10-19 11:34:15.952751   -11.774533\n",
       "2019-10-20 11:34:15.952751   -11.994161\n",
       "2019-10-21 11:34:15.952751   -13.446548\n",
       "2019-10-22 11:34:15.952751   -13.664137\n",
       "Freq: D, dtype: float64"
      ]
     },
     "execution_count": 117,
     "metadata": {},
     "output_type": "execute_result"
    }
   ],
   "source": [
    "ts.cumsum()"
   ]
  },
  {
   "cell_type": "code",
   "execution_count": 119,
   "metadata": {},
   "outputs": [
    {
     "data": {
      "text/plain": [
       "<matplotlib.axes._subplots.AxesSubplot at 0x7fd0d37da160>"
      ]
     },
     "execution_count": 119,
     "metadata": {},
     "output_type": "execute_result"
    },
    {
     "data": {
      "image/png": "[encoded data removed]",
      "text/plain": [
       "<Figure size 432x288 with 1 Axes>"
      ]
     },
     "metadata": {},
     "output_type": "display_data"
    }
   ],
   "source": [
    "ts = ts.cumsum()\n",
    "ts.plot()"
   ]
  },
  {
   "cell_type": "code",
   "execution_count": 120,
   "metadata": {},
   "outputs": [],
   "source": [
    "df = pd.DataFrame(np.random.randn(50,4),index=ts.index,\n",
    "                 columns=['A','B','X','Y'])"
   ]
  },
  {
   "cell_type": "code",
   "execution_count": 121,
   "metadata": {},
   "outputs": [
    {
     "data": {
      "text/html": [
       "<div>\n",
       "<style scoped>\n",
       "    .dataframe tbody tr th:only-of-type {\n",
       "        vertical-align: middle;\n",
       "    }\n",
       "\n",
       "    .dataframe tbody tr th {\n",
       "        vertical-align: top;\n",
       "    }\n",
       "\n",
       "    .dataframe thead th {\n",
       "        text-align: right;\n",
       "    }\n",
       "</style>\n",
       "<table border=\"1\" class=\"dataframe\">\n",
       "  <thead>\n",
       "    <tr style=\"text-align: right;\">\n",
       "      <th></th>\n",
       "      <th>A</th>\n",
       "      <th>B</th>\n",
       "      <th>X</th>\n",
       "      <th>Y</th>\n",
       "    </tr>\n",
       "  </thead>\n",
       "  <tbody>\n",
       "    <tr>\n",
       "      <td>2019-09-03 11:34:15.952751</td>\n",
       "      <td>-0.927149</td>\n",
       "      <td>0.561558</td>\n",
       "      <td>-0.487430</td>\n",
       "      <td>-2.203193</td>\n",
       "    </tr>\n",
       "    <tr>\n",
       "      <td>2019-09-04 11:34:15.952751</td>\n",
       "      <td>0.967349</td>\n",
       "      <td>-0.674949</td>\n",
       "      <td>-0.862059</td>\n",
       "      <td>-0.372948</td>\n",
       "    </tr>\n",
       "    <tr>\n",
       "      <td>2019-09-05 11:34:15.952751</td>\n",
       "      <td>0.402009</td>\n",
       "      <td>-0.835604</td>\n",
       "      <td>0.515365</td>\n",
       "      <td>0.274539</td>\n",
       "    </tr>\n",
       "    <tr>\n",
       "      <td>2019-09-06 11:34:15.952751</td>\n",
       "      <td>0.202171</td>\n",
       "      <td>0.067578</td>\n",
       "      <td>0.762344</td>\n",
       "      <td>-2.098365</td>\n",
       "    </tr>\n",
       "    <tr>\n",
       "      <td>2019-09-07 11:34:15.952751</td>\n",
       "      <td>-1.371563</td>\n",
       "      <td>0.850559</td>\n",
       "      <td>-0.566405</td>\n",
       "      <td>2.185658</td>\n",
       "    </tr>\n",
       "    <tr>\n",
       "      <td>2019-09-08 11:34:15.952751</td>\n",
       "      <td>-0.796643</td>\n",
       "      <td>-0.004592</td>\n",
       "      <td>0.328832</td>\n",
       "      <td>1.411590</td>\n",
       "    </tr>\n",
       "    <tr>\n",
       "      <td>2019-09-09 11:34:15.952751</td>\n",
       "      <td>-1.695273</td>\n",
       "      <td>-0.050735</td>\n",
       "      <td>2.130116</td>\n",
       "      <td>-0.138348</td>\n",
       "    </tr>\n",
       "    <tr>\n",
       "      <td>2019-09-10 11:34:15.952751</td>\n",
       "      <td>0.006065</td>\n",
       "      <td>-0.777413</td>\n",
       "      <td>0.408047</td>\n",
       "      <td>0.589683</td>\n",
       "    </tr>\n",
       "    <tr>\n",
       "      <td>2019-09-11 11:34:15.952751</td>\n",
       "      <td>3.096341</td>\n",
       "      <td>-0.156229</td>\n",
       "      <td>0.175421</td>\n",
       "      <td>1.702564</td>\n",
       "    </tr>\n",
       "    <tr>\n",
       "      <td>2019-09-12 11:34:15.952751</td>\n",
       "      <td>-0.519515</td>\n",
       "      <td>0.584180</td>\n",
       "      <td>-0.784804</td>\n",
       "      <td>0.685940</td>\n",
       "    </tr>\n",
       "    <tr>\n",
       "      <td>2019-09-13 11:34:15.952751</td>\n",
       "      <td>-0.566862</td>\n",
       "      <td>1.428453</td>\n",
       "      <td>-0.618114</td>\n",
       "      <td>0.575352</td>\n",
       "    </tr>\n",
       "    <tr>\n",
       "      <td>2019-09-14 11:34:15.952751</td>\n",
       "      <td>-0.005343</td>\n",
       "      <td>0.508229</td>\n",
       "      <td>-0.249081</td>\n",
       "      <td>0.067688</td>\n",
       "    </tr>\n",
       "    <tr>\n",
       "      <td>2019-09-15 11:34:15.952751</td>\n",
       "      <td>0.198298</td>\n",
       "      <td>-1.654262</td>\n",
       "      <td>1.448543</td>\n",
       "      <td>-0.595890</td>\n",
       "    </tr>\n",
       "    <tr>\n",
       "      <td>2019-09-16 11:34:15.952751</td>\n",
       "      <td>1.157816</td>\n",
       "      <td>0.440097</td>\n",
       "      <td>0.972709</td>\n",
       "      <td>0.612020</td>\n",
       "    </tr>\n",
       "    <tr>\n",
       "      <td>2019-09-17 11:34:15.952751</td>\n",
       "      <td>-0.437300</td>\n",
       "      <td>0.544057</td>\n",
       "      <td>-0.481440</td>\n",
       "      <td>-1.676260</td>\n",
       "    </tr>\n",
       "    <tr>\n",
       "      <td>2019-09-18 11:34:15.952751</td>\n",
       "      <td>-0.390097</td>\n",
       "      <td>-1.000998</td>\n",
       "      <td>0.123799</td>\n",
       "      <td>-0.266360</td>\n",
       "    </tr>\n",
       "    <tr>\n",
       "      <td>2019-09-19 11:34:15.952751</td>\n",
       "      <td>-2.297667</td>\n",
       "      <td>1.686609</td>\n",
       "      <td>-1.797969</td>\n",
       "      <td>0.645890</td>\n",
       "    </tr>\n",
       "    <tr>\n",
       "      <td>2019-09-20 11:34:15.952751</td>\n",
       "      <td>-1.936978</td>\n",
       "      <td>1.519229</td>\n",
       "      <td>0.980017</td>\n",
       "      <td>-1.557093</td>\n",
       "    </tr>\n",
       "    <tr>\n",
       "      <td>2019-09-21 11:34:15.952751</td>\n",
       "      <td>-2.203535</td>\n",
       "      <td>1.256137</td>\n",
       "      <td>0.204863</td>\n",
       "      <td>0.967643</td>\n",
       "    </tr>\n",
       "    <tr>\n",
       "      <td>2019-09-22 11:34:15.952751</td>\n",
       "      <td>1.350842</td>\n",
       "      <td>0.148720</td>\n",
       "      <td>0.689736</td>\n",
       "      <td>-0.270247</td>\n",
       "    </tr>\n",
       "    <tr>\n",
       "      <td>2019-09-23 11:34:15.952751</td>\n",
       "      <td>-1.118688</td>\n",
       "      <td>-0.120836</td>\n",
       "      <td>-0.073511</td>\n",
       "      <td>-2.268314</td>\n",
       "    </tr>\n",
       "    <tr>\n",
       "      <td>2019-09-24 11:34:15.952751</td>\n",
       "      <td>0.187958</td>\n",
       "      <td>0.188442</td>\n",
       "      <td>0.197212</td>\n",
       "      <td>-1.084468</td>\n",
       "    </tr>\n",
       "    <tr>\n",
       "      <td>2019-09-25 11:34:15.952751</td>\n",
       "      <td>-1.638813</td>\n",
       "      <td>-1.236096</td>\n",
       "      <td>-1.798254</td>\n",
       "      <td>-0.762868</td>\n",
       "    </tr>\n",
       "    <tr>\n",
       "      <td>2019-09-26 11:34:15.952751</td>\n",
       "      <td>0.402436</td>\n",
       "      <td>-0.259415</td>\n",
       "      <td>-0.193534</td>\n",
       "      <td>-0.049526</td>\n",
       "    </tr>\n",
       "    <tr>\n",
       "      <td>2019-09-27 11:34:15.952751</td>\n",
       "      <td>0.047810</td>\n",
       "      <td>0.898378</td>\n",
       "      <td>0.401418</td>\n",
       "      <td>1.540563</td>\n",
       "    </tr>\n",
       "    <tr>\n",
       "      <td>2019-09-28 11:34:15.952751</td>\n",
       "      <td>-0.359885</td>\n",
       "      <td>1.838734</td>\n",
       "      <td>0.400601</td>\n",
       "      <td>0.603239</td>\n",
       "    </tr>\n",
       "    <tr>\n",
       "      <td>2019-09-29 11:34:15.952751</td>\n",
       "      <td>0.665395</td>\n",
       "      <td>-0.894868</td>\n",
       "      <td>1.580546</td>\n",
       "      <td>0.636417</td>\n",
       "    </tr>\n",
       "    <tr>\n",
       "      <td>2019-09-30 11:34:15.952751</td>\n",
       "      <td>1.101883</td>\n",
       "      <td>1.410986</td>\n",
       "      <td>-0.166973</td>\n",
       "      <td>0.779010</td>\n",
       "    </tr>\n",
       "    <tr>\n",
       "      <td>2019-10-01 11:34:15.952751</td>\n",
       "      <td>-1.584801</td>\n",
       "      <td>0.071022</td>\n",
       "      <td>-0.198886</td>\n",
       "      <td>0.163621</td>\n",
       "    </tr>\n",
       "    <tr>\n",
       "      <td>2019-10-02 11:34:15.952751</td>\n",
       "      <td>0.107861</td>\n",
       "      <td>0.126559</td>\n",
       "      <td>0.019269</td>\n",
       "      <td>0.193040</td>\n",
       "    </tr>\n",
       "    <tr>\n",
       "      <td>2019-10-03 11:34:15.952751</td>\n",
       "      <td>-1.079000</td>\n",
       "      <td>-0.675769</td>\n",
       "      <td>0.971630</td>\n",
       "      <td>1.798832</td>\n",
       "    </tr>\n",
       "    <tr>\n",
       "      <td>2019-10-04 11:34:15.952751</td>\n",
       "      <td>-0.130759</td>\n",
       "      <td>2.532297</td>\n",
       "      <td>-0.181743</td>\n",
       "      <td>1.200906</td>\n",
       "    </tr>\n",
       "    <tr>\n",
       "      <td>2019-10-05 11:34:15.952751</td>\n",
       "      <td>1.443914</td>\n",
       "      <td>-0.840305</td>\n",
       "      <td>-0.944754</td>\n",
       "      <td>0.562653</td>\n",
       "    </tr>\n",
       "    <tr>\n",
       "      <td>2019-10-06 11:34:15.952751</td>\n",
       "      <td>0.010301</td>\n",
       "      <td>-0.069986</td>\n",
       "      <td>0.938362</td>\n",
       "      <td>-0.882876</td>\n",
       "    </tr>\n",
       "    <tr>\n",
       "      <td>2019-10-07 11:34:15.952751</td>\n",
       "      <td>0.601766</td>\n",
       "      <td>-0.477263</td>\n",
       "      <td>1.061901</td>\n",
       "      <td>0.557678</td>\n",
       "    </tr>\n",
       "    <tr>\n",
       "      <td>2019-10-08 11:34:15.952751</td>\n",
       "      <td>-0.581494</td>\n",
       "      <td>0.941064</td>\n",
       "      <td>-1.402096</td>\n",
       "      <td>-0.623080</td>\n",
       "    </tr>\n",
       "    <tr>\n",
       "      <td>2019-10-09 11:34:15.952751</td>\n",
       "      <td>0.352901</td>\n",
       "      <td>0.982120</td>\n",
       "      <td>-0.138844</td>\n",
       "      <td>2.025206</td>\n",
       "    </tr>\n",
       "    <tr>\n",
       "      <td>2019-10-10 11:34:15.952751</td>\n",
       "      <td>1.636626</td>\n",
       "      <td>-0.677623</td>\n",
       "      <td>-0.674264</td>\n",
       "      <td>-0.618428</td>\n",
       "    </tr>\n",
       "    <tr>\n",
       "      <td>2019-10-11 11:34:15.952751</td>\n",
       "      <td>2.046048</td>\n",
       "      <td>-0.676348</td>\n",
       "      <td>0.249047</td>\n",
       "      <td>-0.498461</td>\n",
       "    </tr>\n",
       "    <tr>\n",
       "      <td>2019-10-12 11:34:15.952751</td>\n",
       "      <td>-1.480513</td>\n",
       "      <td>-1.042282</td>\n",
       "      <td>-0.276697</td>\n",
       "      <td>0.320478</td>\n",
       "    </tr>\n",
       "    <tr>\n",
       "      <td>2019-10-13 11:34:15.952751</td>\n",
       "      <td>-1.751828</td>\n",
       "      <td>-0.328459</td>\n",
       "      <td>-0.529030</td>\n",
       "      <td>0.839376</td>\n",
       "    </tr>\n",
       "    <tr>\n",
       "      <td>2019-10-14 11:34:15.952751</td>\n",
       "      <td>0.995475</td>\n",
       "      <td>0.700728</td>\n",
       "      <td>-0.286492</td>\n",
       "      <td>-0.867696</td>\n",
       "    </tr>\n",
       "    <tr>\n",
       "      <td>2019-10-15 11:34:15.952751</td>\n",
       "      <td>-0.689849</td>\n",
       "      <td>0.399533</td>\n",
       "      <td>0.256139</td>\n",
       "      <td>0.905173</td>\n",
       "    </tr>\n",
       "    <tr>\n",
       "      <td>2019-10-16 11:34:15.952751</td>\n",
       "      <td>1.161423</td>\n",
       "      <td>0.123906</td>\n",
       "      <td>0.862559</td>\n",
       "      <td>2.541839</td>\n",
       "    </tr>\n",
       "    <tr>\n",
       "      <td>2019-10-17 11:34:15.952751</td>\n",
       "      <td>-1.600770</td>\n",
       "      <td>1.576161</td>\n",
       "      <td>-0.616881</td>\n",
       "      <td>-0.386885</td>\n",
       "    </tr>\n",
       "    <tr>\n",
       "      <td>2019-10-18 11:34:15.952751</td>\n",
       "      <td>0.887355</td>\n",
       "      <td>-0.218430</td>\n",
       "      <td>-1.298033</td>\n",
       "      <td>-1.105273</td>\n",
       "    </tr>\n",
       "    <tr>\n",
       "      <td>2019-10-19 11:34:15.952751</td>\n",
       "      <td>1.090610</td>\n",
       "      <td>1.730813</td>\n",
       "      <td>0.364226</td>\n",
       "      <td>-1.549388</td>\n",
       "    </tr>\n",
       "    <tr>\n",
       "      <td>2019-10-20 11:34:15.952751</td>\n",
       "      <td>-2.243458</td>\n",
       "      <td>0.482743</td>\n",
       "      <td>-1.995339</td>\n",
       "      <td>-2.073265</td>\n",
       "    </tr>\n",
       "    <tr>\n",
       "      <td>2019-10-21 11:34:15.952751</td>\n",
       "      <td>-0.397856</td>\n",
       "      <td>0.022986</td>\n",
       "      <td>0.815399</td>\n",
       "      <td>1.315790</td>\n",
       "    </tr>\n",
       "    <tr>\n",
       "      <td>2019-10-22 11:34:15.952751</td>\n",
       "      <td>-0.348254</td>\n",
       "      <td>-0.287702</td>\n",
       "      <td>-0.005121</td>\n",
       "      <td>1.428790</td>\n",
       "    </tr>\n",
       "  </tbody>\n",
       "</table>\n",
       "</div>"
      ],
      "text/plain": [
       "                                   A         B         X         Y\n",
       "2019-09-03 11:34:15.952751 -0.927149  0.561558 -0.487430 -2.203193\n",
       "2019-09-04 11:34:15.952751  0.967349 -0.674949 -0.862059 -0.372948\n",
       "2019-09-05 11:34:15.952751  0.402009 -0.835604  0.515365  0.274539\n",
       "2019-09-06 11:34:15.952751  0.202171  0.067578  0.762344 -2.098365\n",
       "2019-09-07 11:34:15.952751 -1.371563  0.850559 -0.566405  2.185658\n",
       "2019-09-08 11:34:15.952751 -0.796643 -0.004592  0.328832  1.411590\n",
       "2019-09-09 11:34:15.952751 -1.695273 -0.050735  2.130116 -0.138348\n",
       "2019-09-10 11:34:15.952751  0.006065 -0.777413  0.408047  0.589683\n",
       "2019-09-11 11:34:15.952751  3.096341 -0.156229  0.175421  1.702564\n",
       "2019-09-12 11:34:15.952751 -0.519515  0.584180 -0.784804  0.685940\n",
       "2019-09-13 11:34:15.952751 -0.566862  1.428453 -0.618114  0.575352\n",
       "2019-09-14 11:34:15.952751 -0.005343  0.508229 -0.249081  0.067688\n",
       "2019-09-15 11:34:15.952751  0.198298 -1.654262  1.448543 -0.595890\n",
       "2019-09-16 11:34:15.952751  1.157816  0.440097  0.972709  0.612020\n",
       "2019-09-17 11:34:15.952751 -0.437300  0.544057 -0.481440 -1.676260\n",
       "2019-09-18 11:34:15.952751 -0.390097 -1.000998  0.123799 -0.266360\n",
       "2019-09-19 11:34:15.952751 -2.297667  1.686609 -1.797969  0.645890\n",
       "2019-09-20 11:34:15.952751 -1.936978  1.519229  0.980017 -1.557093\n",
       "2019-09-21 11:34:15.952751 -2.203535  1.256137  0.204863  0.967643\n",
       "2019-09-22 11:34:15.952751  1.350842  0.148720  0.689736 -0.270247\n",
       "2019-09-23 11:34:15.952751 -1.118688 -0.120836 -0.073511 -2.268314\n",
       "2019-09-24 11:34:15.952751  0.187958  0.188442  0.197212 -1.084468\n",
       "2019-09-25 11:34:15.952751 -1.638813 -1.236096 -1.798254 -0.762868\n",
       "2019-09-26 11:34:15.952751  0.402436 -0.259415 -0.193534 -0.049526\n",
       "2019-09-27 11:34:15.952751  0.047810  0.898378  0.401418  1.540563\n",
       "2019-09-28 11:34:15.952751 -0.359885  1.838734  0.400601  0.603239\n",
       "2019-09-29 11:34:15.952751  0.665395 -0.894868  1.580546  0.636417\n",
       "2019-09-30 11:34:15.952751  1.101883  1.410986 -0.166973  0.779010\n",
       "2019-10-01 11:34:15.952751 -1.584801  0.071022 -0.198886  0.163621\n",
       "2019-10-02 11:34:15.952751  0.107861  0.126559  0.019269  0.193040\n",
       "2019-10-03 11:34:15.952751 -1.079000 -0.675769  0.971630  1.798832\n",
       "2019-10-04 11:34:15.952751 -0.130759  2.532297 -0.181743  1.200906\n",
       "2019-10-05 11:34:15.952751  1.443914 -0.840305 -0.944754  0.562653\n",
       "2019-10-06 11:34:15.952751  0.010301 -0.069986  0.938362 -0.882876\n",
       "2019-10-07 11:34:15.952751  0.601766 -0.477263  1.061901  0.557678\n",
       "2019-10-08 11:34:15.952751 -0.581494  0.941064 -1.402096 -0.623080\n",
       "2019-10-09 11:34:15.952751  0.352901  0.982120 -0.138844  2.025206\n",
       "2019-10-10 11:34:15.952751  1.636626 -0.677623 -0.674264 -0.618428\n",
       "2019-10-11 11:34:15.952751  2.046048 -0.676348  0.249047 -0.498461\n",
       "2019-10-12 11:34:15.952751 -1.480513 -1.042282 -0.276697  0.320478\n",
       "2019-10-13 11:34:15.952751 -1.751828 -0.328459 -0.529030  0.839376\n",
       "2019-10-14 11:34:15.952751  0.995475  0.700728 -0.286492 -0.867696\n",
       "2019-10-15 11:34:15.952751 -0.689849  0.399533  0.256139  0.905173\n",
       "2019-10-16 11:34:15.952751  1.161423  0.123906  0.862559  2.541839\n",
       "2019-10-17 11:34:15.952751 -1.600770  1.576161 -0.616881 -0.386885\n",
       "2019-10-18 11:34:15.952751  0.887355 -0.218430 -1.298033 -1.105273\n",
       "2019-10-19 11:34:15.952751  1.090610  1.730813  0.364226 -1.549388\n",
       "2019-10-20 11:34:15.952751 -2.243458  0.482743 -1.995339 -2.073265\n",
       "2019-10-21 11:34:15.952751 -0.397856  0.022986  0.815399  1.315790\n",
       "2019-10-22 11:34:15.952751 -0.348254 -0.287702 -0.005121  1.428790"
      ]
     },
     "execution_count": 121,
     "metadata": {},
     "output_type": "execute_result"
    }
   ],
   "source": [
    "df"
   ]
  },
  {
   "cell_type": "code",
   "execution_count": 122,
   "metadata": {},
   "outputs": [
    {
     "data": {
      "text/plain": [
       "<matplotlib.axes._subplots.AxesSubplot at 0x7fd0d3795e48>"
      ]
     },
     "execution_count": 122,
     "metadata": {},
     "output_type": "execute_result"
    },
    {
     "data": {
      "image/png": "[encoded data removed]",
      "text/plain": [
       "<Figure size 432x288 with 1 Axes>"
      ]
     },
     "metadata": {},
     "output_type": "display_data"
    }
   ],
   "source": [
    "df.plot()"
   ]
  },
  {
   "cell_type": "code",
   "execution_count": 123,
   "metadata": {},
   "outputs": [
    {
     "data": {
      "text/html": [
       "<div>\n",
       "<style scoped>\n",
       "    .dataframe tbody tr th:only-of-type {\n",
       "        vertical-align: middle;\n",
       "    }\n",
       "\n",
       "    .dataframe tbody tr th {\n",
       "        vertical-align: top;\n",
       "    }\n",
       "\n",
       "    .dataframe thead th {\n",
       "        text-align: right;\n",
       "    }\n",
       "</style>\n",
       "<table border=\"1\" class=\"dataframe\">\n",
       "  <thead>\n",
       "    <tr style=\"text-align: right;\">\n",
       "      <th></th>\n",
       "      <th>A</th>\n",
       "      <th>B</th>\n",
       "      <th>X</th>\n",
       "      <th>Y</th>\n",
       "    </tr>\n",
       "  </thead>\n",
       "  <tbody>\n",
       "    <tr>\n",
       "      <td>2019-09-03 11:34:15.952751</td>\n",
       "      <td>-0.927149</td>\n",
       "      <td>0.561558</td>\n",
       "      <td>-0.487430</td>\n",
       "      <td>-2.203193</td>\n",
       "    </tr>\n",
       "    <tr>\n",
       "      <td>2019-09-04 11:34:15.952751</td>\n",
       "      <td>0.040200</td>\n",
       "      <td>-0.113391</td>\n",
       "      <td>-1.349488</td>\n",
       "      <td>-2.576141</td>\n",
       "    </tr>\n",
       "    <tr>\n",
       "      <td>2019-09-05 11:34:15.952751</td>\n",
       "      <td>0.442209</td>\n",
       "      <td>-0.948995</td>\n",
       "      <td>-0.834123</td>\n",
       "      <td>-2.301602</td>\n",
       "    </tr>\n",
       "    <tr>\n",
       "      <td>2019-09-06 11:34:15.952751</td>\n",
       "      <td>0.644381</td>\n",
       "      <td>-0.881416</td>\n",
       "      <td>-0.071779</td>\n",
       "      <td>-4.399967</td>\n",
       "    </tr>\n",
       "    <tr>\n",
       "      <td>2019-09-07 11:34:15.952751</td>\n",
       "      <td>-0.727182</td>\n",
       "      <td>-0.030858</td>\n",
       "      <td>-0.638184</td>\n",
       "      <td>-2.214309</td>\n",
       "    </tr>\n",
       "    <tr>\n",
       "      <td>2019-09-08 11:34:15.952751</td>\n",
       "      <td>-1.523825</td>\n",
       "      <td>-0.035449</td>\n",
       "      <td>-0.309352</td>\n",
       "      <td>-0.802719</td>\n",
       "    </tr>\n",
       "    <tr>\n",
       "      <td>2019-09-09 11:34:15.952751</td>\n",
       "      <td>-3.219098</td>\n",
       "      <td>-0.086184</td>\n",
       "      <td>1.820764</td>\n",
       "      <td>-0.941067</td>\n",
       "    </tr>\n",
       "    <tr>\n",
       "      <td>2019-09-10 11:34:15.952751</td>\n",
       "      <td>-3.213034</td>\n",
       "      <td>-0.863597</td>\n",
       "      <td>2.228811</td>\n",
       "      <td>-0.351384</td>\n",
       "    </tr>\n",
       "    <tr>\n",
       "      <td>2019-09-11 11:34:15.952751</td>\n",
       "      <td>-0.116693</td>\n",
       "      <td>-1.019826</td>\n",
       "      <td>2.404232</td>\n",
       "      <td>1.351180</td>\n",
       "    </tr>\n",
       "    <tr>\n",
       "      <td>2019-09-12 11:34:15.952751</td>\n",
       "      <td>-0.636207</td>\n",
       "      <td>-0.435645</td>\n",
       "      <td>1.619427</td>\n",
       "      <td>2.037120</td>\n",
       "    </tr>\n",
       "    <tr>\n",
       "      <td>2019-09-13 11:34:15.952751</td>\n",
       "      <td>-1.203069</td>\n",
       "      <td>0.992807</td>\n",
       "      <td>1.001313</td>\n",
       "      <td>2.612472</td>\n",
       "    </tr>\n",
       "    <tr>\n",
       "      <td>2019-09-14 11:34:15.952751</td>\n",
       "      <td>-1.208412</td>\n",
       "      <td>1.501037</td>\n",
       "      <td>0.752232</td>\n",
       "      <td>2.680159</td>\n",
       "    </tr>\n",
       "    <tr>\n",
       "      <td>2019-09-15 11:34:15.952751</td>\n",
       "      <td>-1.010114</td>\n",
       "      <td>-0.153225</td>\n",
       "      <td>2.200775</td>\n",
       "      <td>2.084270</td>\n",
       "    </tr>\n",
       "    <tr>\n",
       "      <td>2019-09-16 11:34:15.952751</td>\n",
       "      <td>0.147702</td>\n",
       "      <td>0.286872</td>\n",
       "      <td>3.173483</td>\n",
       "      <td>2.696289</td>\n",
       "    </tr>\n",
       "    <tr>\n",
       "      <td>2019-09-17 11:34:15.952751</td>\n",
       "      <td>-0.289598</td>\n",
       "      <td>0.830929</td>\n",
       "      <td>2.692043</td>\n",
       "      <td>1.020029</td>\n",
       "    </tr>\n",
       "    <tr>\n",
       "      <td>2019-09-18 11:34:15.952751</td>\n",
       "      <td>-0.679695</td>\n",
       "      <td>-0.170068</td>\n",
       "      <td>2.815842</td>\n",
       "      <td>0.753668</td>\n",
       "    </tr>\n",
       "    <tr>\n",
       "      <td>2019-09-19 11:34:15.952751</td>\n",
       "      <td>-2.977361</td>\n",
       "      <td>1.516541</td>\n",
       "      <td>1.017873</td>\n",
       "      <td>1.399558</td>\n",
       "    </tr>\n",
       "    <tr>\n",
       "      <td>2019-09-20 11:34:15.952751</td>\n",
       "      <td>-4.914339</td>\n",
       "      <td>3.035769</td>\n",
       "      <td>1.997890</td>\n",
       "      <td>-0.157535</td>\n",
       "    </tr>\n",
       "    <tr>\n",
       "      <td>2019-09-21 11:34:15.952751</td>\n",
       "      <td>-7.117874</td>\n",
       "      <td>4.291906</td>\n",
       "      <td>2.202753</td>\n",
       "      <td>0.810108</td>\n",
       "    </tr>\n",
       "    <tr>\n",
       "      <td>2019-09-22 11:34:15.952751</td>\n",
       "      <td>-5.767032</td>\n",
       "      <td>4.440626</td>\n",
       "      <td>2.892489</td>\n",
       "      <td>0.539861</td>\n",
       "    </tr>\n",
       "    <tr>\n",
       "      <td>2019-09-23 11:34:15.952751</td>\n",
       "      <td>-6.885720</td>\n",
       "      <td>4.319790</td>\n",
       "      <td>2.818978</td>\n",
       "      <td>-1.728453</td>\n",
       "    </tr>\n",
       "    <tr>\n",
       "      <td>2019-09-24 11:34:15.952751</td>\n",
       "      <td>-6.697762</td>\n",
       "      <td>4.508232</td>\n",
       "      <td>3.016189</td>\n",
       "      <td>-2.812921</td>\n",
       "    </tr>\n",
       "    <tr>\n",
       "      <td>2019-09-25 11:34:15.952751</td>\n",
       "      <td>-8.336575</td>\n",
       "      <td>3.272137</td>\n",
       "      <td>1.217936</td>\n",
       "      <td>-3.575789</td>\n",
       "    </tr>\n",
       "    <tr>\n",
       "      <td>2019-09-26 11:34:15.952751</td>\n",
       "      <td>-7.934139</td>\n",
       "      <td>3.012722</td>\n",
       "      <td>1.024402</td>\n",
       "      <td>-3.625315</td>\n",
       "    </tr>\n",
       "    <tr>\n",
       "      <td>2019-09-27 11:34:15.952751</td>\n",
       "      <td>-7.886329</td>\n",
       "      <td>3.911100</td>\n",
       "      <td>1.425820</td>\n",
       "      <td>-2.084752</td>\n",
       "    </tr>\n",
       "    <tr>\n",
       "      <td>2019-09-28 11:34:15.952751</td>\n",
       "      <td>-8.246214</td>\n",
       "      <td>5.749834</td>\n",
       "      <td>1.826421</td>\n",
       "      <td>-1.481513</td>\n",
       "    </tr>\n",
       "    <tr>\n",
       "      <td>2019-09-29 11:34:15.952751</td>\n",
       "      <td>-7.580820</td>\n",
       "      <td>4.854966</td>\n",
       "      <td>3.406966</td>\n",
       "      <td>-0.845096</td>\n",
       "    </tr>\n",
       "    <tr>\n",
       "      <td>2019-09-30 11:34:15.952751</td>\n",
       "      <td>-6.478937</td>\n",
       "      <td>6.265952</td>\n",
       "      <td>3.239994</td>\n",
       "      <td>-0.066086</td>\n",
       "    </tr>\n",
       "    <tr>\n",
       "      <td>2019-10-01 11:34:15.952751</td>\n",
       "      <td>-8.063738</td>\n",
       "      <td>6.336974</td>\n",
       "      <td>3.041108</td>\n",
       "      <td>0.097536</td>\n",
       "    </tr>\n",
       "    <tr>\n",
       "      <td>2019-10-02 11:34:15.952751</td>\n",
       "      <td>-7.955877</td>\n",
       "      <td>6.463533</td>\n",
       "      <td>3.060377</td>\n",
       "      <td>0.290576</td>\n",
       "    </tr>\n",
       "    <tr>\n",
       "      <td>2019-10-03 11:34:15.952751</td>\n",
       "      <td>-9.034877</td>\n",
       "      <td>5.787763</td>\n",
       "      <td>4.032006</td>\n",
       "      <td>2.089408</td>\n",
       "    </tr>\n",
       "    <tr>\n",
       "      <td>2019-10-04 11:34:15.952751</td>\n",
       "      <td>-9.165636</td>\n",
       "      <td>8.320060</td>\n",
       "      <td>3.850263</td>\n",
       "      <td>3.290314</td>\n",
       "    </tr>\n",
       "    <tr>\n",
       "      <td>2019-10-05 11:34:15.952751</td>\n",
       "      <td>-7.721722</td>\n",
       "      <td>7.479755</td>\n",
       "      <td>2.905509</td>\n",
       "      <td>3.852967</td>\n",
       "    </tr>\n",
       "    <tr>\n",
       "      <td>2019-10-06 11:34:15.952751</td>\n",
       "      <td>-7.711420</td>\n",
       "      <td>7.409770</td>\n",
       "      <td>3.843870</td>\n",
       "      <td>2.970091</td>\n",
       "    </tr>\n",
       "    <tr>\n",
       "      <td>2019-10-07 11:34:15.952751</td>\n",
       "      <td>-7.109655</td>\n",
       "      <td>6.932507</td>\n",
       "      <td>4.905771</td>\n",
       "      <td>3.527768</td>\n",
       "    </tr>\n",
       "    <tr>\n",
       "      <td>2019-10-08 11:34:15.952751</td>\n",
       "      <td>-7.691149</td>\n",
       "      <td>7.873571</td>\n",
       "      <td>3.503675</td>\n",
       "      <td>2.904688</td>\n",
       "    </tr>\n",
       "    <tr>\n",
       "      <td>2019-10-09 11:34:15.952751</td>\n",
       "      <td>-7.338248</td>\n",
       "      <td>8.855691</td>\n",
       "      <td>3.364831</td>\n",
       "      <td>4.929894</td>\n",
       "    </tr>\n",
       "    <tr>\n",
       "      <td>2019-10-10 11:34:15.952751</td>\n",
       "      <td>-5.701622</td>\n",
       "      <td>8.178068</td>\n",
       "      <td>2.690567</td>\n",
       "      <td>4.311466</td>\n",
       "    </tr>\n",
       "    <tr>\n",
       "      <td>2019-10-11 11:34:15.952751</td>\n",
       "      <td>-3.655574</td>\n",
       "      <td>7.501720</td>\n",
       "      <td>2.939614</td>\n",
       "      <td>3.813005</td>\n",
       "    </tr>\n",
       "    <tr>\n",
       "      <td>2019-10-12 11:34:15.952751</td>\n",
       "      <td>-5.136087</td>\n",
       "      <td>6.459439</td>\n",
       "      <td>2.662917</td>\n",
       "      <td>4.133483</td>\n",
       "    </tr>\n",
       "    <tr>\n",
       "      <td>2019-10-13 11:34:15.952751</td>\n",
       "      <td>-6.887915</td>\n",
       "      <td>6.130979</td>\n",
       "      <td>2.133887</td>\n",
       "      <td>4.972859</td>\n",
       "    </tr>\n",
       "    <tr>\n",
       "      <td>2019-10-14 11:34:15.952751</td>\n",
       "      <td>-5.892440</td>\n",
       "      <td>6.831707</td>\n",
       "      <td>1.847395</td>\n",
       "      <td>4.105163</td>\n",
       "    </tr>\n",
       "    <tr>\n",
       "      <td>2019-10-15 11:34:15.952751</td>\n",
       "      <td>-6.582289</td>\n",
       "      <td>7.231240</td>\n",
       "      <td>2.103534</td>\n",
       "      <td>5.010336</td>\n",
       "    </tr>\n",
       "    <tr>\n",
       "      <td>2019-10-16 11:34:15.952751</td>\n",
       "      <td>-5.420865</td>\n",
       "      <td>7.355146</td>\n",
       "      <td>2.966093</td>\n",
       "      <td>7.552174</td>\n",
       "    </tr>\n",
       "    <tr>\n",
       "      <td>2019-10-17 11:34:15.952751</td>\n",
       "      <td>-7.021635</td>\n",
       "      <td>8.931306</td>\n",
       "      <td>2.349212</td>\n",
       "      <td>7.165290</td>\n",
       "    </tr>\n",
       "    <tr>\n",
       "      <td>2019-10-18 11:34:15.952751</td>\n",
       "      <td>-6.134281</td>\n",
       "      <td>8.712877</td>\n",
       "      <td>1.051178</td>\n",
       "      <td>6.060017</td>\n",
       "    </tr>\n",
       "    <tr>\n",
       "      <td>2019-10-19 11:34:15.952751</td>\n",
       "      <td>-5.043671</td>\n",
       "      <td>10.443690</td>\n",
       "      <td>1.415405</td>\n",
       "      <td>4.510629</td>\n",
       "    </tr>\n",
       "    <tr>\n",
       "      <td>2019-10-20 11:34:15.952751</td>\n",
       "      <td>-7.287129</td>\n",
       "      <td>10.926433</td>\n",
       "      <td>-0.579935</td>\n",
       "      <td>2.437365</td>\n",
       "    </tr>\n",
       "    <tr>\n",
       "      <td>2019-10-21 11:34:15.952751</td>\n",
       "      <td>-7.684985</td>\n",
       "      <td>10.949419</td>\n",
       "      <td>0.235464</td>\n",
       "      <td>3.753155</td>\n",
       "    </tr>\n",
       "    <tr>\n",
       "      <td>2019-10-22 11:34:15.952751</td>\n",
       "      <td>-8.033239</td>\n",
       "      <td>10.661717</td>\n",
       "      <td>0.230343</td>\n",
       "      <td>5.181945</td>\n",
       "    </tr>\n",
       "  </tbody>\n",
       "</table>\n",
       "</div>"
      ],
      "text/plain": [
       "                                   A          B         X         Y\n",
       "2019-09-03 11:34:15.952751 -0.927149   0.561558 -0.487430 -2.203193\n",
       "2019-09-04 11:34:15.952751  0.040200  -0.113391 -1.349488 -2.576141\n",
       "2019-09-05 11:34:15.952751  0.442209  -0.948995 -0.834123 -2.301602\n",
       "2019-09-06 11:34:15.952751  0.644381  -0.881416 -0.071779 -4.399967\n",
       "2019-09-07 11:34:15.952751 -0.727182  -0.030858 -0.638184 -2.214309\n",
       "2019-09-08 11:34:15.952751 -1.523825  -0.035449 -0.309352 -0.802719\n",
       "2019-09-09 11:34:15.952751 -3.219098  -0.086184  1.820764 -0.941067\n",
       "2019-09-10 11:34:15.952751 -3.213034  -0.863597  2.228811 -0.351384\n",
       "2019-09-11 11:34:15.952751 -0.116693  -1.019826  2.404232  1.351180\n",
       "2019-09-12 11:34:15.952751 -0.636207  -0.435645  1.619427  2.037120\n",
       "2019-09-13 11:34:15.952751 -1.203069   0.992807  1.001313  2.612472\n",
       "2019-09-14 11:34:15.952751 -1.208412   1.501037  0.752232  2.680159\n",
       "2019-09-15 11:34:15.952751 -1.010114  -0.153225  2.200775  2.084270\n",
       "2019-09-16 11:34:15.952751  0.147702   0.286872  3.173483  2.696289\n",
       "2019-09-17 11:34:15.952751 -0.289598   0.830929  2.692043  1.020029\n",
       "2019-09-18 11:34:15.952751 -0.679695  -0.170068  2.815842  0.753668\n",
       "2019-09-19 11:34:15.952751 -2.977361   1.516541  1.017873  1.399558\n",
       "2019-09-20 11:34:15.952751 -4.914339   3.035769  1.997890 -0.157535\n",
       "2019-09-21 11:34:15.952751 -7.117874   4.291906  2.202753  0.810108\n",
       "2019-09-22 11:34:15.952751 -5.767032   4.440626  2.892489  0.539861\n",
       "2019-09-23 11:34:15.952751 -6.885720   4.319790  2.818978 -1.728453\n",
       "2019-09-24 11:34:15.952751 -6.697762   4.508232  3.016189 -2.812921\n",
       "2019-09-25 11:34:15.952751 -8.336575   3.272137  1.217936 -3.575789\n",
       "2019-09-26 11:34:15.952751 -7.934139   3.012722  1.024402 -3.625315\n",
       "2019-09-27 11:34:15.952751 -7.886329   3.911100  1.425820 -2.084752\n",
       "2019-09-28 11:34:15.952751 -8.246214   5.749834  1.826421 -1.481513\n",
       "2019-09-29 11:34:15.952751 -7.580820   4.854966  3.406966 -0.845096\n",
       "2019-09-30 11:34:15.952751 -6.478937   6.265952  3.239994 -0.066086\n",
       "2019-10-01 11:34:15.952751 -8.063738   6.336974  3.041108  0.097536\n",
       "2019-10-02 11:34:15.952751 -7.955877   6.463533  3.060377  0.290576\n",
       "2019-10-03 11:34:15.952751 -9.034877   5.787763  4.032006  2.089408\n",
       "2019-10-04 11:34:15.952751 -9.165636   8.320060  3.850263  3.290314\n",
       "2019-10-05 11:34:15.952751 -7.721722   7.479755  2.905509  3.852967\n",
       "2019-10-06 11:34:15.952751 -7.711420   7.409770  3.843870  2.970091\n",
       "2019-10-07 11:34:15.952751 -7.109655   6.932507  4.905771  3.527768\n",
       "2019-10-08 11:34:15.952751 -7.691149   7.873571  3.503675  2.904688\n",
       "2019-10-09 11:34:15.952751 -7.338248   8.855691  3.364831  4.929894\n",
       "2019-10-10 11:34:15.952751 -5.701622   8.178068  2.690567  4.311466\n",
       "2019-10-11 11:34:15.952751 -3.655574   7.501720  2.939614  3.813005\n",
       "2019-10-12 11:34:15.952751 -5.136087   6.459439  2.662917  4.133483\n",
       "2019-10-13 11:34:15.952751 -6.887915   6.130979  2.133887  4.972859\n",
       "2019-10-14 11:34:15.952751 -5.892440   6.831707  1.847395  4.105163\n",
       "2019-10-15 11:34:15.952751 -6.582289   7.231240  2.103534  5.010336\n",
       "2019-10-16 11:34:15.952751 -5.420865   7.355146  2.966093  7.552174\n",
       "2019-10-17 11:34:15.952751 -7.021635   8.931306  2.349212  7.165290\n",
       "2019-10-18 11:34:15.952751 -6.134281   8.712877  1.051178  6.060017\n",
       "2019-10-19 11:34:15.952751 -5.043671  10.443690  1.415405  4.510629\n",
       "2019-10-20 11:34:15.952751 -7.287129  10.926433 -0.579935  2.437365\n",
       "2019-10-21 11:34:15.952751 -7.684985  10.949419  0.235464  3.753155\n",
       "2019-10-22 11:34:15.952751 -8.033239  10.661717  0.230343  5.181945"
      ]
     },
     "execution_count": 123,
     "metadata": {},
     "output_type": "execute_result"
    }
   ],
   "source": [
    "df.cumsum()"
   ]
  },
  {
   "cell_type": "code",
   "execution_count": 124,
   "metadata": {},
   "outputs": [
    {
     "data": {
      "text/plain": [
       "<matplotlib.axes._subplots.AxesSubplot at 0x7fd0d370fb38>"
      ]
     },
     "execution_count": 124,
     "metadata": {},
     "output_type": "execute_result"
    },
    {
     "data": {
      "image/png": "[encoded data removed]",
      "text/plain": [
       "<Figure size 432x288 with 1 Axes>"
      ]
     },
     "metadata": {},
     "output_type": "display_data"
    }
   ],
   "source": [
    "df = df.cumsum()\n",
    "df.plot()"
   ]
  },
  {
   "cell_type": "code",
   "execution_count": null,
   "metadata": {},
   "outputs": [],
   "source": []
  }
 ],
 "metadata": {
  "kernelspec": {
   "display_name": "Python 3",
   "language": "python",
   "name": "python3"
  },
  "language_info": {
   "codemirror_mode": {
    "name": "ipython",
    "version": 3
   },
   "file_extension": ".py",
   "mimetype": "text/x-python",
   "name": "python",
   "nbconvert_exporter": "python",
   "pygments_lexer": "ipython3",
   "version": "3.6.8"
  }
 },
 "nbformat": 4,
 "nbformat_minor": 2
}
